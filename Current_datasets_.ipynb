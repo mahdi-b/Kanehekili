{
 "cells": [
  {
   "cell_type": "code",
   "execution_count": 4,
   "id": "c8269926",
   "metadata": {},
   "outputs": [],
   "source": [
    "import pandas as pd"
   ]
  },
  {
   "cell_type": "code",
   "execution_count": 1,
   "id": "2d1a6d4a",
   "metadata": {},
   "outputs": [],
   "source": [
    "import geopandas as gpd\n",
    "import fiona\n",
    "from fiona.drvsupport import supported_drivers"
   ]
  },
  {
   "cell_type": "code",
   "execution_count": 2,
   "id": "d0eb2667",
   "metadata": {},
   "outputs": [],
   "source": [
    "from matplotlib import pyplot as plt\n",
    "from matplotlib import image as mpimg"
   ]
  },
  {
   "cell_type": "code",
   "execution_count": 23,
   "id": "c31d86df",
   "metadata": {},
   "outputs": [],
   "source": [
    "#import KML Driver\n",
    "#gpd.io.file.fiona.drvsupport.supported_drivers['KML'] = 'rw'\n",
    "#supported_drivers['LIBKML'] = 'rw'\n",
    "fiona.drvsupport.supported_drivers['kml'] = 'rw' \n",
    "fiona.drvsupport.supported_drivers['KML'] = 'rw'"
   ]
  },
  {
   "cell_type": "markdown",
   "id": "3552caff",
   "metadata": {},
   "source": [
    "### Hospitals Data\n",
    "\n",
    "Downloaded from: https://geoportal.hawaii.gov/datasets/hospitals-1/explore?location=20.639400%2C-157.361100%2C8.61&showTable=true\n",
    "\n",
    "* `Description`: Locations of hospitals in the State of Hawaii as of November 2021. \n",
    "* `Source`:  State Department of Health, Office of Health Care Assurance (OHCA).\n",
    "* `Lowest Geographic Scale`: Latitute, Longitude; Address\n",
    "* `Data formats available`: csv, geojson, kml\n",
    "\n",
    "```\n",
    "Name:  Facility Name \n",
    "Licensed_Beds: Licensed Bed Count\n",
    "Island: Island\n",
    "Mailing_Address: Mailing Address\n",
    "Physical_Address: Physical Address\n",
    "Phone: Phone Number\n",
    "Alt_Phone: Alternative Phone Number\n",
    "Fax: Fax\n",
    "POC: Point of Contact\n",
    "Website: Website\n",
    "Accred_Status: Accreditation Status* (TJC, N/A)\n",
    "Cert_Status: Certification Status\n",
    "Critical_Access_Hosp: Critical Access Hospital ** (Yes, No)\n",
    "Provider Number: Provider Number \n",
    "```"
   ]
  },
  {
   "cell_type": "code",
   "execution_count": null,
   "id": "61ad0ee6",
   "metadata": {},
   "outputs": [],
   "source": [
    "# Tabular data    \n",
    "data = pd.read_csv(\"data/hospitals/Hospitals.csv\")\n",
    "data.head(3)"
   ]
  },
  {
   "cell_type": "code",
   "execution_count": null,
   "id": "16d731b1",
   "metadata": {},
   "outputs": [],
   "source": [
    "# geojson    \n",
    "data1 = gpd.read_file(\"data/hospitals/Hospitals.geojson\")\n",
    "data1.head(3)"
   ]
  },
  {
   "cell_type": "code",
   "execution_count": null,
   "id": "b4a7d66b",
   "metadata": {},
   "outputs": [],
   "source": [
    "# KML -- Informtion already included in the GeoJson\n",
    "data2 = gpd.read_file(\"data/hospitals/Hospitals.kml\", driver=\"KML\")\n",
    "data2.head(5)"
   ]
  },
  {
   "cell_type": "markdown",
   "id": "89bd146a",
   "metadata": {},
   "source": [
    "### Adult Residential Care Homes Data\n",
    "\n",
    "Downloaded from: https://geoportal.hawaii.gov/datasets/HiStateGIS::adult-residential-care-homes/about\n",
    "\n",
    "* `Description`: Locations of adult residential care homes in the State of Hawaii as of November 2021. \n",
    "* `Source`:  Hawaii State Department of Health Office of Health Care Assurance (OHCA).\n",
    "* `Lowest Geographic Scale`: Latitute, Longitude; Address\n",
    "* `Data formats available`: csv, geojson, kml\n",
    "\n",
    "```\n",
    "Facility_Name: Facility Name\n",
    "Facility_Type: Facility Type (definitions below)\n",
    "Licensee: Name of License Holder\n",
    "Address: Facility Address\n",
    "City: City\n",
    "State: State\n",
    "Island: Island\n",
    "Phone: Phone Number\n",
    "License_Num: License Number\n",
    "License_Exp: License Expiration\n",
    "Males: # of male vacancies in the facility (Nov 2021)\n",
    "Females: # of female vacancies in the facility (Nov 2021)\n",
    "Capacity: Overall Capacity of the Facility\n",
    "Amb_Type: Ambulatory Type (definitions below)\n",
    "Wheelchair_Appr: Is Facility Wheelchair Approved? (Yes or no)\n",
    "Diet_Type: Type of Diet Approved in Facility (Regular or Special)\n",
    "```"
   ]
  },
  {
   "cell_type": "code",
   "execution_count": null,
   "id": "e00122c5",
   "metadata": {},
   "outputs": [],
   "source": [
    "# Tabular data    \n",
    "data3 = pd.read_csv(\"data/Adult_Residential_Care_Homes/Adult_Residential_Care_Homes.csv\")\n",
    "data3.head(3)"
   ]
  },
  {
   "cell_type": "code",
   "execution_count": null,
   "id": "2c51d99b",
   "metadata": {
    "scrolled": true
   },
   "outputs": [],
   "source": [
    "#geojson\n",
    "\n",
    "data4 = gpd.read_file(\"data/Adult_Residential_Care_Homes/Adult_Residential_Care_Homes.geojson\")\n",
    "data4.head(3)"
   ]
  },
  {
   "cell_type": "code",
   "execution_count": null,
   "id": "81245d45",
   "metadata": {},
   "outputs": [],
   "source": [
    "#KML data included in the the geojson file\n",
    "data5 = gpd.read_file(\"data/Adult_Residential_Care_Homes/Adult_Residential_Care_Homes.kml\", driver=\"KML\")\n",
    "data5.head(3)"
   ]
  },
  {
   "cell_type": "markdown",
   "id": "a0681184",
   "metadata": {},
   "source": [
    "### Assisted Living Facilities Data\n",
    "\n",
    "Downloaded from: https://geoportal.hawaii.gov/datasets/HiStateGIS::assisted-living-facilities/about\n",
    "\n",
    "* `Description`: Locations of assisted living facilities  in the State of Hawaii as of November 2021. \n",
    "* `Source`:  Hawaii State Department of Health Office of Health Care Assurance (OHCA).\n",
    "* `Lowest Geographic Scale`: Latitute, Longitude; Address\n",
    "* `Data formats available`: csv, geojson, kml\n",
    "\n",
    "```\n",
    "Facility_Name: Facility Name\n",
    "Facility_Type: Facility Type (definitions below)\n",
    "Licensee: Name of License Holder\n",
    "Address: acility Address\n",
    "City:City\n",
    "State:State\n",
    "Island:Island\n",
    "Phone:Phone Number\n",
    "License_Num:License Number\n",
    "License_Exp:License Expiration\n",
    "Males:# of male vacancies in the facility (Nov 2021)\n",
    "Females:# of female vacancies in the facility (Nov 2021)\n",
    "Capacity:Overall Capacity of the Facility\n",
    "Amb_Type:Ambulatory Type (definitions below)\n",
    "Wheelchair_Appr: Is Facility Wheelchair Approved? (Yes or no)\n",
    "Diet_Type: Type of Diet Approved in Facility (Regular or Special)\n",
    "```"
   ]
  },
  {
   "cell_type": "code",
   "execution_count": null,
   "id": "30c23fab",
   "metadata": {},
   "outputs": [],
   "source": [
    "# Tabular data    \n",
    "data6 = pd.read_csv(\"data/assisted living facilities/Assisted_Living_Facilities.csv\")\n",
    "data6.head(3)"
   ]
  },
  {
   "cell_type": "code",
   "execution_count": null,
   "id": "fab1462b",
   "metadata": {},
   "outputs": [],
   "source": [
    "#geojson\n",
    "data7 = gpd.read_file(\"data/assisted living facilities/Assisted_Living_Facilities.kml\", driver=\"KML\")\n",
    "data7.head(3)"
   ]
  },
  {
   "cell_type": "markdown",
   "id": "ace5d66e",
   "metadata": {},
   "source": [
    "### Age of Structure Data\n",
    "#### Year Structure Built\n",
    "\n",
    "Downloaded from: https://data.census.gov/table/ACSDT5Y2019.B25034g=040XX00US15$1500000&y=2019&tid=ACSDT5Y2019.B25034\n",
    "\n",
    "* `Description`: Year structure built \n",
    "* `Source`:  U.S. Census Bureau, 2015-2019 American Community Survey 5-Year Estimates\n",
    "* `Data formats available`: csv\n",
    "* `GEO_ID`: 1500000US150010201001 (FIPS code 1500000US:Country, 15:Hawaii State, 001:County, 02010:Census Track,01:Blockgroup)\n",
    "\n",
    "```\n",
    "Column Name\tLabel\n",
    "GEO_ID\tGeography\n",
    "NAME\tGeographic Area Name\n",
    "B25034_001E\tEstimate Total:\n",
    "B25034_001M\tMargin of Error Total:\n",
    "B25034_002E\tEstimate Total: Built 2014 or later\n",
    "B25034_002M\tMargin of Error Total: Built 2014 or later\n",
    "B25034_003E\tEstimate Total: Built 2010 to 2013\n",
    "B25034_003M\tMargin of Error Total: Built 2010 to 2013\n",
    "B25034_004E\tEstimate Total: Built 2000 to 2009\n",
    "B25034_004M\tMargin of Error Total: Built 2000 to 2009\n",
    "B25034_005E\tEstimate Total: Built 1990 to 1999\n",
    "B25034_005M\tMargin of Error Total: Built 1990 to 1999\n",
    "B25034_006E\tEstimate Total: Built 1980 to 1989\n",
    "B25034_006M\tMargin of Error Total: Built 1980 to 1989\n",
    "B25034_007E\tEstimate Total: Built 1970 to 1979\n",
    "B25034_007M\tMargin of Error Total: Built 1970 to 1979\n",
    "B25034_008E\tEstimate Total: Built 1960 to 1969\n",
    "B25034_008M\tMargin of Error Total: Built 1960 to 1969\n",
    "B25034_009E\tEstimate Total: Built 1950 to 1959\n",
    "B25034_009M\tMargin of Error Total: Built 1950 to 1959\n",
    "B25034_010E\tEstimate Total: Built 1940 to 1949\n",
    "B25034_010M\tMargin of Error Total: Built 1940 to 1949\n",
    "B25034_011E\tEstimate Total: Built 1939 or earlier\n",
    "B25034_011M\tMargin of Error Total: Built 1939 or earlier\n",
    "```"
   ]
  },
  {
   "cell_type": "code",
   "execution_count": null,
   "id": "ac082761",
   "metadata": {},
   "outputs": [],
   "source": [
    "data8 = pd.read_csv('data/age of structure/ACSDT5Y2019.B25034-Data.csv')\n",
    "data8.head(4)"
   ]
  },
  {
   "cell_type": "markdown",
   "id": "4e8ecc98",
   "metadata": {},
   "source": [
    "### Sea Level Rise Exposure Data - 1.1 Ft. Scenario\n",
    "\n",
    "Downloaded from: https://geoportal.hawaii.gov/search?collection=Dataset&groupIds=a247b90d2fd14f60a64c0c75db5d5731\n",
    "\n",
    "* `Description`: Estimated extent of chronic flooding due to multiple coastal hazards, modeled using a 1.1 foot sea level rise scenario. \n",
    "* `Source`:  Hawaii Statewide GIS Program Open Data Site \n",
    "* `Lowest Geographic Scale`: Multipolygon, Latitute, Longitude;\n",
    "* `Data formats available`: csv, geojson, kml, shapefile\n",
    "\n",
    "```\n",
    "Attributes:\n",
    "id: Shape ID\n",
    "st_area(shape):\n",
    "st_perimeter(shape)\n",
    "```"
   ]
  },
  {
   "cell_type": "code",
   "execution_count": null,
   "id": "48f2475d",
   "metadata": {},
   "outputs": [],
   "source": [
    "data9 = pd.read_csv('data/sea_level_rise_exposure/1.1ft/SLR_Exposure_Area_-_1.1_Ft._Scenario.csv')\n",
    "data9.head(3)"
   ]
  },
  {
   "cell_type": "code",
   "execution_count": null,
   "id": "67dc0e91",
   "metadata": {},
   "outputs": [],
   "source": [
    "data10 = gpd.read_file('data/sea_level_rise_exposure/1.1ft/SLR_Exposure_Area_-_1.1_Ft._Scenario.geojson')\n",
    "data10.head()"
   ]
  },
  {
   "cell_type": "code",
   "execution_count": null,
   "id": "d6be5f41",
   "metadata": {},
   "outputs": [],
   "source": [
    "data11 = gpd.read_file('data/sea_level_rise_exposure/1.1ft/SLR_Exposure_Area_-_1.1_Ft._Scenario.kml')\n",
    "data11.head(3)"
   ]
  },
  {
   "cell_type": "code",
   "execution_count": null,
   "id": "6f461220",
   "metadata": {},
   "outputs": [],
   "source": [
    "data12 = gpd.read_file('data/sea_level_rise_exposure/1.1ft/SLR_Exposure_Area_-_1.1_Ft._Scenario_ShapeFile')\n",
    "data12.plot(alpha=.4, color='gray', edgecolor='black')"
   ]
  },
  {
   "cell_type": "markdown",
   "id": "d8e22653",
   "metadata": {},
   "source": [
    "### Sea Level Rise Exposure Data - 2.0 Ft. Scenario\n",
    "\n",
    "Downloaded from: https://geoportal.hawaii.gov/search?collection=Dataset&groupIds=a247b90d2fd14f60a64c0c75db5d5731\n",
    "\n",
    "* `Description`: Estimated extent of chronic flooding due to multiple coastal hazards, modeled using a 2.0 foot sea level rise scenario. \n",
    "* `Source`:  Hawaii Statewide GIS Program Open Data Site \n",
    "* `Lowest Geographic Scale`: Multipolygon, Latitute, Longitude;\n",
    "* `Data formats available`: csv, geojson, kml, shapefile\n",
    "\n",
    "```\n",
    "\n",
    "Attributes: id, st_area(shape), st_perimeter(shape)\n",
    "\n",
    "```"
   ]
  },
  {
   "cell_type": "code",
   "execution_count": null,
   "id": "1893a8f9",
   "metadata": {},
   "outputs": [],
   "source": [
    "data13 = pd.read_csv('data/sea_level_rise_exposure/2.0ft/SLR_Exposure_Area_-_2.0_Ft._Scenario.csv')\n",
    "data13.head(3)"
   ]
  },
  {
   "cell_type": "code",
   "execution_count": 18,
   "id": "73901fd0",
   "metadata": {},
   "outputs": [
    {
     "data": {
      "text/html": [
       "<div>\n",
       "<style scoped>\n",
       "    .dataframe tbody tr th:only-of-type {\n",
       "        vertical-align: middle;\n",
       "    }\n",
       "\n",
       "    .dataframe tbody tr th {\n",
       "        vertical-align: top;\n",
       "    }\n",
       "\n",
       "    .dataframe thead th {\n",
       "        text-align: right;\n",
       "    }\n",
       "</style>\n",
       "<table border=\"1\" class=\"dataframe\">\n",
       "  <thead>\n",
       "    <tr style=\"text-align: right;\">\n",
       "      <th></th>\n",
       "      <th>objectid</th>\n",
       "      <th>id</th>\n",
       "      <th>st_areashape</th>\n",
       "      <th>st_perimetershape</th>\n",
       "      <th>geometry</th>\n",
       "    </tr>\n",
       "  </thead>\n",
       "  <tbody>\n",
       "    <tr>\n",
       "      <th>0</th>\n",
       "      <td>1</td>\n",
       "      <td>1</td>\n",
       "      <td>1.742507e+07</td>\n",
       "      <td>1.420933e+06</td>\n",
       "      <td>MULTIPOLYGON (((-155.34006 19.22734, -155.3401...</td>\n",
       "    </tr>\n",
       "    <tr>\n",
       "      <th>1</th>\n",
       "      <td>2</td>\n",
       "      <td>0</td>\n",
       "      <td>1.613553e+07</td>\n",
       "      <td>1.082830e+06</td>\n",
       "      <td>MULTIPOLYGON (((-159.78216 22.06026, -159.7821...</td>\n",
       "    </tr>\n",
       "    <tr>\n",
       "      <th>2</th>\n",
       "      <td>3</td>\n",
       "      <td>1</td>\n",
       "      <td>1.337530e+06</td>\n",
       "      <td>1.904737e+05</td>\n",
       "      <td>MULTIPOLYGON (((-156.91505 20.91916, -156.9150...</td>\n",
       "    </tr>\n",
       "    <tr>\n",
       "      <th>3</th>\n",
       "      <td>4</td>\n",
       "      <td>0</td>\n",
       "      <td>9.846578e+06</td>\n",
       "      <td>8.195439e+05</td>\n",
       "      <td>MULTIPOLYGON (((-156.50200 20.79698, -156.5020...</td>\n",
       "    </tr>\n",
       "    <tr>\n",
       "      <th>4</th>\n",
       "      <td>5</td>\n",
       "      <td>1</td>\n",
       "      <td>6.620965e+06</td>\n",
       "      <td>6.483648e+05</td>\n",
       "      <td>MULTIPOLYGON (((-157.11872 21.09841, -157.1187...</td>\n",
       "    </tr>\n",
       "  </tbody>\n",
       "</table>\n",
       "</div>"
      ],
      "text/plain": [
       "   objectid  id  st_areashape  st_perimetershape   \n",
       "0         1   1  1.742507e+07       1.420933e+06  \\\n",
       "1         2   0  1.613553e+07       1.082830e+06   \n",
       "2         3   1  1.337530e+06       1.904737e+05   \n",
       "3         4   0  9.846578e+06       8.195439e+05   \n",
       "4         5   1  6.620965e+06       6.483648e+05   \n",
       "\n",
       "                                            geometry  \n",
       "0  MULTIPOLYGON (((-155.34006 19.22734, -155.3401...  \n",
       "1  MULTIPOLYGON (((-159.78216 22.06026, -159.7821...  \n",
       "2  MULTIPOLYGON (((-156.91505 20.91916, -156.9150...  \n",
       "3  MULTIPOLYGON (((-156.50200 20.79698, -156.5020...  \n",
       "4  MULTIPOLYGON (((-157.11872 21.09841, -157.1187...  "
      ]
     },
     "execution_count": 18,
     "metadata": {},
     "output_type": "execute_result"
    }
   ],
   "source": [
    "data16 = gpd.read_file('data/sea_level_rise_exposure/2.0ft/SLR_Exposure_Area_-_2.0_Ft._Scenario_ShapeFile')\n",
    "\n",
    "data14 = gpd.read_file('data/sea_level_rise_exposure/2.0ft/SLR_Exposure_Area_-_2.0_Ft._Scenario.geojson')\n",
    "data14.head()"
   ]
  },
  {
   "cell_type": "code",
   "execution_count": 21,
   "id": "82e6a8f8",
   "metadata": {},
   "outputs": [
    {
     "data": {
      "image/png": "[encoded data removed]",
      "text/plain": [
       "<Figure size 1000x1000 with 1 Axes>"
      ]
     },
     "metadata": {},
     "output_type": "display_data"
    }
   ],
   "source": [
    "import geopandas as gpd\n",
    "import matplotlib.pyplot as plt\n",
    "\n",
    "# Assuming data16 and data14 are already read using gpd.read_file\n",
    "\n",
    "# Start a matplotlib plotting context\n",
    "fig, ax = plt.subplots(figsize=(10, 10))\n",
    "\n",
    "# Plot the first DataFrame\n",
    "data16.plot(ax=ax, color='blue', edgecolor='k', alpha=0.9) # Adjust color, edgecolor, and alpha as needed\n",
    "\n",
    "# Plot the second DataFrame on the same ax (axes)\n",
    "data14.plot(ax=ax, color='red', edgecolor='k', alpha=0.1) # Adjust color, edgecolor, and alpha as needed\n",
    "\n",
    "# Add additional plot formatting here (title, labels, etc.)\n",
    "plt.title('Sea Level Rise Exposure')\n",
    "plt.xlabel('Longitude')\n",
    "plt.ylabel('Latitude')\n",
    "\n",
    "# Show the plot\n",
    "plt.show()"
   ]
  },
  {
   "cell_type": "code",
   "execution_count": 26,
   "id": "ae0c3ebd",
   "metadata": {},
   "outputs": [
    {
     "data": {
      "text/plain": [
       "(6, 3)"
      ]
     },
     "execution_count": 26,
     "metadata": {},
     "output_type": "execute_result"
    }
   ],
   "source": [
    "data15 = gpd.read_file('data/sea_level_rise_exposure/2.0ft/SLR_Exposure_Area_-_2.0_Ft._Scenario.kml')\n",
    "data15"
   ]
  },
  {
   "cell_type": "code",
   "execution_count": 37,
   "id": "0a272c62",
   "metadata": {},
   "outputs": [
    {
     "ename": "TypeError",
     "evalue": "'MultiPolygon' object is not iterable",
     "output_type": "error",
     "traceback": [
      "\u001b[0;31m---------------------------------------------------------------------------\u001b[0m",
      "\u001b[0;31mTypeError\u001b[0m                                 Traceback (most recent call last)",
      "Cell \u001b[0;32mIn [37], line 2\u001b[0m\n\u001b[1;32m      1\u001b[0m x \u001b[38;5;241m=\u001b[39m data15\u001b[38;5;241m.\u001b[39miloc[\u001b[38;5;241m1\u001b[39m]\u001b[38;5;241m.\u001b[39mgeometry\n\u001b[0;32m----> 2\u001b[0m \u001b[38;5;28;43mlist\u001b[39;49m\u001b[43m(\u001b[49m\u001b[43mx\u001b[49m\u001b[43m)\u001b[49m\n",
      "\u001b[0;31mTypeError\u001b[0m: 'MultiPolygon' object is not iterable"
     ]
    }
   ],
   "source": [
    "x = data15.iloc[1].geometry\n",
    "x\n"
   ]
  },
  {
   "cell_type": "code",
   "execution_count": 32,
   "id": "34512bf2",
   "metadata": {},
   "outputs": [
    {
     "data": {
      "text/plain": [
       "(6, 5)"
      ]
     },
     "execution_count": 32,
     "metadata": {},
     "output_type": "execute_result"
    }
   ],
   "source": [
    "data16 = gpd.read_file('data/sea_level_rise_exposure/2.0ft/SLR_Exposure_Area_-_2.0_Ft._Scenario_ShapeFile')\n",
    "data16.shape\n"
   ]
  },
  {
   "cell_type": "markdown",
   "id": "65927fb3",
   "metadata": {},
   "source": [
    "### Sea Level Rise Exposure Data - 3.2 Ft. Scenario\n",
    "\n",
    "Downloaded from: https://geoportal.hawaii.gov/datasets/5c163882650b4d5e89925d04e1aa2a8e_45/explore?location=20.552174%2C-157.260700%2C8.36\n",
    "\n",
    "* `Description`: Estimated extent of chronic flooding due to multiple coastal hazards, modeled using a 2.0 foot sea level rise scenario. \n",
    "* `Source`:  Hawaii Statewide GIS Program Open Data Site \n",
    "* `Lowest Geographic Scale`: Multipolygon, Latitute, Longitude;\n",
    "* `Data formats available`: csv, geojson, kml, shapefile\n",
    "\n",
    "\n",
    "```\n",
    "Attributes: id, st_area(shape), st_perimeter(shape)\n",
    "```\n"
   ]
  },
  {
   "cell_type": "code",
   "execution_count": 5,
   "id": "5e648581",
   "metadata": {},
   "outputs": [
    {
     "data": {
      "text/html": [
       "<div>\n",
       "<style scoped>\n",
       "    .dataframe tbody tr th:only-of-type {\n",
       "        vertical-align: middle;\n",
       "    }\n",
       "\n",
       "    .dataframe tbody tr th {\n",
       "        vertical-align: top;\n",
       "    }\n",
       "\n",
       "    .dataframe thead th {\n",
       "        text-align: right;\n",
       "    }\n",
       "</style>\n",
       "<table border=\"1\" class=\"dataframe\">\n",
       "  <thead>\n",
       "    <tr style=\"text-align: right;\">\n",
       "      <th></th>\n",
       "      <th>objectid</th>\n",
       "      <th>id</th>\n",
       "      <th>st_areashape</th>\n",
       "      <th>st_perimetershape</th>\n",
       "    </tr>\n",
       "  </thead>\n",
       "  <tbody>\n",
       "    <tr>\n",
       "      <th>0</th>\n",
       "      <td>1</td>\n",
       "      <td>1</td>\n",
       "      <td>1.921314e+07</td>\n",
       "      <td>1.508260e+06</td>\n",
       "    </tr>\n",
       "    <tr>\n",
       "      <th>1</th>\n",
       "      <td>2</td>\n",
       "      <td>0</td>\n",
       "      <td>2.330952e+07</td>\n",
       "      <td>1.233408e+06</td>\n",
       "    </tr>\n",
       "    <tr>\n",
       "      <th>2</th>\n",
       "      <td>3</td>\n",
       "      <td>1</td>\n",
       "      <td>1.537672e+06</td>\n",
       "      <td>2.050805e+05</td>\n",
       "    </tr>\n",
       "  </tbody>\n",
       "</table>\n",
       "</div>"
      ],
      "text/plain": [
       "   objectid  id  st_areashape  st_perimetershape\n",
       "0         1   1  1.921314e+07       1.508260e+06\n",
       "1         2   0  2.330952e+07       1.233408e+06\n",
       "2         3   1  1.537672e+06       2.050805e+05"
      ]
     },
     "execution_count": 5,
     "metadata": {},
     "output_type": "execute_result"
    }
   ],
   "source": [
    "data17 = pd.read_csv('data/sea_level_rise_exposure/3.2ft/SLR_Exposure_Area_-_3.2_Ft._Scenario.csv')\n",
    "data17.head(3)"
   ]
  },
  {
   "cell_type": "code",
   "execution_count": null,
   "id": "fca3474e",
   "metadata": {},
   "outputs": [],
   "source": [
    "data18 = gpd.read_file('data/sea_level_rise_exposure/3.2ft/SLR_Exposure_Area_-_3.2_Ft._Scenario.geojson')\n",
    "data18.head(3)"
   ]
  },
  {
   "cell_type": "code",
   "execution_count": 8,
   "id": "89ec46ae",
   "metadata": {},
   "outputs": [],
   "source": [
    "data19 = gpd.read_file('data/sea_level_rise_exposure/3.2ft/SLR_Exposure_Area_-_3.2_Ft._Scenario.kml')\n",
    "data19.head(3)"
   ]
  },
  {
   "cell_type": "code",
   "execution_count": null,
   "id": "7a788335",
   "metadata": {},
   "outputs": [],
   "source": [
    "data20 = gpd.read_file('data/sea_level_rise_exposure/3.2ft/SLR_Exposure_Area_-_3.2_Ft._Scenario')\n",
    "data20.plot(alpha=.4, color='gray', edgecolor='black')"
   ]
  },
  {
   "cell_type": "markdown",
   "id": "61b2c2bb",
   "metadata": {},
   "source": [
    "### Sea Level Rise Potential Flooded Highways Data - 0.5 Ft. Scenario\n",
    "\n",
    "Downloaded from: https://geoportal.hawaii.gov/datasets/a3116b61d7b04cc6ba3ea10e632f991a_69/explore?location=21.472056%2C-158.059600%2C9.40\n",
    "\n",
    "* `Description`: Estimated annual high wave flooding, modeled using a 0.5 foot sea level rise scenario. \n",
    "* `Source`:  Hawaii Statewide GIS Program Open Data Site \n",
    "* `Lowest Geographic Scale`: st fullname, Highway fullname, lengthshape, Multipolygon, Latitute, Longitude;\n",
    "* `Data formats available`: csv, geojson, kml, shapefile\n",
    "\n",
    "```\n",
    "Attributes: id, st_area(shape), st_perimeter(shape)\n",
    "```"
   ]
  },
  {
   "cell_type": "code",
   "execution_count": null,
   "id": "47dfe60e",
   "metadata": {},
   "outputs": [],
   "source": [
    "data21 = pd.read_csv('data/slr potential flooded highways/0.5ft/SLR_Potential_Flooded_Highways_-_0.5_Ft._Scenario.csv')\n",
    "data21.head(3)"
   ]
  },
  {
   "cell_type": "code",
   "execution_count": null,
   "id": "0aacb003",
   "metadata": {},
   "outputs": [],
   "source": [
    "data22 = gpd.read_file('data/slr potential flooded highways/0.5ft/SLR_Potential_Flooded_Highways_-_0.5_Ft._Scenario.geojson')\n",
    "data22.head(3)"
   ]
  },
  {
   "cell_type": "code",
   "execution_count": null,
   "id": "dc65532b",
   "metadata": {},
   "outputs": [],
   "source": [
    "data23 = gpd.read_file('data/slr potential flooded highways/0.5ft/SLR_Potential_Flooded_Highways_-_0.5_Ft._Scenario.kml')\n",
    "data23.head(3)"
   ]
  },
  {
   "cell_type": "code",
   "execution_count": null,
   "id": "35a89935",
   "metadata": {},
   "outputs": [],
   "source": [
    "data24 = gpd.read_file('data/slr potential flooded highways/0.5ft/SLR_Potential_Flooded_Highways_-_0.5_Ft._Scenario')\n",
    "data24.plot(alpha=1, color='black', edgecolor='black')"
   ]
  },
  {
   "cell_type": "markdown",
   "id": "2a5feca7",
   "metadata": {},
   "source": [
    "### Sea Level Rise Potential Flooded Highways Data - 1.1 Ft. Scenario\n",
    "\n",
    "Downloaded from: https://geoportal.hawaii.gov/datasets/a3116b61d7b04cc6ba3ea10e632f991a_69/explore?location=21.472056%2C-158.059600%2C9.40\n",
    "\n",
    "* `Description`: Estimated annual high wave flooding, modeled using a 1.1 foot sea level rise scenario. \n",
    "* `Source`:  Hawaii Statewide GIS Program Open Data Site \n",
    "* `Lowest Geographic Scale`: st fullname, Highway fullname, lengthshape, Multipolygon, Latitute, Longitude;\n",
    "* `Data formats available`: csv, geojson, kml, shapefile\n",
    "\n",
    "```\n",
    "Attributes: id, st_area(shape), st_perimeter(shape)\n",
    "```"
   ]
  },
  {
   "cell_type": "code",
   "execution_count": null,
   "id": "0c4c9b65",
   "metadata": {},
   "outputs": [],
   "source": [
    "data25 = pd.read_csv('data/slr potential flooded highways/1.1ft/SLR_Potential_Flooded_Highways_-_1.1_Ft._Scenario.csv')\n",
    "data25.head(3)"
   ]
  },
  {
   "cell_type": "code",
   "execution_count": null,
   "id": "de89b419",
   "metadata": {},
   "outputs": [],
   "source": [
    "data26 = gpd.read_file('data/slr potential flooded highways/1.1ft/SLR_Potential_Flooded_Highways_-_1.1_Ft._Scenario.geojson')\n",
    "data26.head(3)"
   ]
  },
  {
   "cell_type": "code",
   "execution_count": null,
   "id": "26f84a45",
   "metadata": {},
   "outputs": [],
   "source": [
    "data27 = gpd.read_file('data/slr potential flooded highways/1.1ft/SLR_Potential_Flooded_Highways_-_1.1_Ft._Scenario')\n",
    "data27.plot(alpha=1, color='black', edgecolor='black')"
   ]
  },
  {
   "cell_type": "markdown",
   "id": "cbfaacf7",
   "metadata": {},
   "source": [
    "### Sea Level Rise Potential Flooded Highways Data - 2.0 Ft. Scenario\n",
    "\n",
    "Downloaded from: https://geoportal.hawaii.gov/datasets/fd3ec2b57f734fe6aea7a066a81eb8b7_70/explore\n",
    "\n",
    "* `Description`: Potential impacts to coastal highways and major roads due to sea level rise, modeled using a 2.0 foot scenario.\n",
    "* `Source`:  Hawaii Statewide GIS Program, Data compiled by the Pacific Islands Ocean Observing System (PacIOOS)\n",
    "* `Lowest Geographic Scale`: st fullname, Highway fullname, lengthshape, Multipolygon, Latitute, Longitude;\n",
    "* `Data formats available`: csv, geojson, kml, shapefile\n",
    "\n",
    "```\n",
    "Attributes: id, st_area(shape), st_perimeter(shape)\n",
    "```"
   ]
  },
  {
   "cell_type": "code",
   "execution_count": null,
   "id": "aefe67e2",
   "metadata": {},
   "outputs": [],
   "source": [
    "data28 = pd.read_csv('data/slr potential flooded highways/2.0ft/SLR_Potential_Flooded_Highways_-_2.0_Ft._Scenario.csv')\n",
    "data28.head(3)"
   ]
  },
  {
   "cell_type": "code",
   "execution_count": null,
   "id": "07cd210d",
   "metadata": {},
   "outputs": [],
   "source": [
    "data29 = gpd.read_file('data/slr potential flooded highways/2.0ft/SLR_Potential_Flooded_Highways_-_2.0_Ft._Scenario.geojson')\n",
    "data29.head(3)"
   ]
  },
  {
   "cell_type": "code",
   "execution_count": null,
   "id": "f1e105dd",
   "metadata": {},
   "outputs": [],
   "source": [
    "data30 = gpd.read_file('data/slr potential flooded highways/2.0ft/SLR_Potential_Flooded_Highways_-_2.0_Ft._Scenario')\n",
    "data30.plot(alpha=1, color='black', edgecolor='black')"
   ]
  },
  {
   "cell_type": "markdown",
   "id": "bc88f0c6",
   "metadata": {},
   "source": [
    "### Sea Level Rise Potential Flooded Highways Data - 3.2 Ft. Scenario\n",
    "\n",
    "Downloaded from: https://geoportal.hawaii.gov/datasets/fd3ec2b57f734fe6aea7a066a81eb8b7_70/explore\n",
    "\n",
    "* `Description`: Potential impacts to coastal highways and major roads due to sea level rise, modeled using a 3.2 foot scenario.\n",
    "* `Source`:  Hawaii Statewide GIS Program, Data compiled by the Pacific Islands Ocean Observing System (PacIOOS)\n",
    "* `Lowest Geographic Scale`: st fullname, Highway fullname, lengthshape, Multipolygon, Latitute, Longitude;\n",
    "* `Data formats available`: csv, geojson, kml, shapefile\n",
    "\n",
    "```\n",
    "Attributes: id, st_area(shape), st_perimeter(shape)\n",
    "```"
   ]
  },
  {
   "cell_type": "code",
   "execution_count": null,
   "id": "14ddedc0",
   "metadata": {},
   "outputs": [],
   "source": [
    "data31 = pd.read_csv('data/slr potential flooded highways/3.2ft/SLR_Potential_Flooded_Highways_-_3.2_Ft._Scenario.csv')\n",
    "data31.head(3)"
   ]
  },
  {
   "cell_type": "code",
   "execution_count": null,
   "id": "34d7668a",
   "metadata": {},
   "outputs": [],
   "source": [
    "data32 = gpd.read_file('data/slr potential flooded highways/3.2ft/SLR_Potential_Flooded_Highways_-_3.2_Ft._Scenario.geojson')\n",
    "data32.head(3)"
   ]
  },
  {
   "cell_type": "code",
   "execution_count": null,
   "id": "c8765838",
   "metadata": {},
   "outputs": [],
   "source": [
    "data33 = gpd.read_file('data/slr potential flooded highways/3.2ft/SLR_Potential_Flooded_Highways_-_3.2_Ft._Scenario.kml')\n",
    "data33.head(3)"
   ]
  },
  {
   "cell_type": "code",
   "execution_count": null,
   "id": "300c89b3",
   "metadata": {},
   "outputs": [],
   "source": [
    "data34 = gpd.read_file('data/slr potential flooded highways/3.2ft/SLR_Potential_Flooded_Highways_-_3.2_Ft._Scenario')\n",
    "data34.plot(alpha=1, color='black', edgecolor='black')"
   ]
  },
  {
   "cell_type": "markdown",
   "id": "3d512180",
   "metadata": {},
   "source": [
    "### Sea Level Rise Potential Economic Loss Data - 0.5 Ft. Scenario\n",
    "\n",
    "Downloaded from: https://geoportal.hawaii.gov/datasets/HiStateGIS::slr-potential-economic-loss-1-1-ft-scenario/about\n",
    "* `Description`: Potential economic loss based on the value of the land and structures in the county tax parcel database permanently lost due to sea level rise, modeled using a 0.5 foot scenario. \n",
    "* `Source`:  Hawaii Statewide GIS Program, Data compiled by the Pacific Islands Ocean Observing System (PacIOOS)\n",
    "* `Lowest Geographic Scale`: st_areashape,\tst_perimetershape, latitude,longetude\n",
    "* `Data formats available`: csv, geojson, kml, shapefile\n",
    "\n",
    "```\n",
    "Attributes: id, st_area(shape), st_perimeter(shape)\n",
    "```"
   ]
  },
  {
   "cell_type": "code",
   "execution_count": null,
   "id": "1950a0d1",
   "metadata": {},
   "outputs": [],
   "source": [
    "data35 = pd.read_csv(\"data/slr potential economic loss/0.5ft/SLR_Potential_Economic_Loss_-_0.5_Ft._Scenario.csv\")\n",
    "data35.head(3)"
   ]
  },
  {
   "cell_type": "code",
   "execution_count": null,
   "id": "ff746f97",
   "metadata": {},
   "outputs": [],
   "source": [
    "data36 = gpd.read_file(\"data/slr potential economic loss/0.5ft/SLR_Potential_Economic_Loss_-_0.5_Ft._Scenario.geojson\")\n",
    "data36.head(3)"
   ]
  },
  {
   "cell_type": "code",
   "execution_count": null,
   "id": "6f8042ab",
   "metadata": {},
   "outputs": [],
   "source": [
    "data37 = gpd.read_file(\"data/slr potential economic loss/0.5ft/SLR_Potential_Economic_Loss_-_0.5_Ft._Scenario.kml\")\n",
    "data37.head(3)"
   ]
  },
  {
   "cell_type": "code",
   "execution_count": null,
   "id": "9cb97c92",
   "metadata": {},
   "outputs": [],
   "source": [
    "data38 = gpd.read_file(\"data/slr potential economic loss/0.5ft/SLR_Potential_Economic_Loss_-_0.5_Ft._Scenario.kml\")\n",
    "data38.plot(alpha=0.5, color='grey', edgecolor='black')"
   ]
  },
  {
   "cell_type": "markdown",
   "id": "d99e49d2",
   "metadata": {},
   "source": [
    "### Sea Level Rise Potential Economic Loss Data - 1.1 Ft. Scenario\n",
    "\n",
    "Downloaded from: https://geoportal.hawaii.gov/datasets/HiStateGIS::slr-potential-economic-loss-1-1-ft-scenario/about\n",
    "* `Description`: Potential economic loss based on the value of the land and structures in the county tax parcel database permanently lost due to sea level rise, modeled using a 1.1 foot scenario. \n",
    "* `Source`:  Hawaii Statewide GIS Program, Data compiled by the Pacific Islands Ocean Observing System (PacIOOS)\n",
    "* `Lowest Geographic Scale`: st_areashape,\tst_perimetershape, latitude,longetude\n",
    "* `Data formats available`: csv, geojson, kml, shapefile\n",
    "\n",
    "```\n",
    "Attributes: id, st_area(shape), st_perimeter(shape)\n",
    "```"
   ]
  },
  {
   "cell_type": "code",
   "execution_count": null,
   "id": "2f36e682",
   "metadata": {},
   "outputs": [],
   "source": [
    "data40 = pd.read_csv(\"data/slr potential economic loss/1.1ft/SLR_Potential_Economic_Loss_-_1.1_Ft._Scenario.csv\")\n",
    "data40.head(3)"
   ]
  },
  {
   "cell_type": "code",
   "execution_count": null,
   "id": "fd8e7fca",
   "metadata": {},
   "outputs": [],
   "source": [
    "data41 = gpd.read_file(\"data/slr potential economic loss/1.1ft/SLR_Potential_Economic_Loss_-_1.1_Ft._Scenario.geojson\")\n",
    "data41.head(3)"
   ]
  },
  {
   "cell_type": "code",
   "execution_count": null,
   "id": "a99611e1",
   "metadata": {},
   "outputs": [],
   "source": [
    "data42 = gpd.read_file(\"data/slr potential economic loss/1.1ft/SLR_Potential_Economic_Loss_-_1.1_Ft._Scenario.kml\")\n",
    "data42.head(3)"
   ]
  },
  {
   "cell_type": "code",
   "execution_count": null,
   "id": "8713bc02",
   "metadata": {},
   "outputs": [],
   "source": [
    "data43 = gpd.read_file(\"data/slr potential economic loss/1.1ft/SLR_Potential_Economic_Loss_-_1.1_Ft._Scenario.kml\")\n",
    "data43.plot(alpha=0.5, color='grey', edgecolor='black')"
   ]
  },
  {
   "cell_type": "markdown",
   "id": "42ba3485",
   "metadata": {},
   "source": [
    "### Sea Level Rise Potential Economic Loss Data - 2.0 Ft. Scenario\n",
    "\n",
    "Downloaded from: https://geoportal.hawaii.gov/datasets/a3116b61d7b04cc6ba3ea10e632f991a_69/explore?location=21.472056%2C-158.059600%2C9.40\n",
    "\n",
    "* `Description`: Potential economic loss based on the value of the land and structures in the county tax parcel database permanently lost due to sea level rise, modeled using a 2.0 foot scenario. \n",
    "* `Source`:  Hawaii Statewide GIS Program Open Data Site \n",
    "* `Lowest Geographic Scale`: st_areashape,\tst_perimetershape, latitude,longetude\n",
    "* `Data formats available`: csv, geojson, kml, shapefile\n",
    "\n",
    "```\n",
    "Attributes: id, st_area(shape), st_perimeter(shape)\n",
    "```"
   ]
  },
  {
   "cell_type": "code",
   "execution_count": null,
   "id": "b1db9b00",
   "metadata": {},
   "outputs": [],
   "source": [
    "data44 = pd.read_csv(\"data/slr potential economic loss/2.0ft/SLR_Potential_Economic_Loss_-_2.0_Ft._Scenario.csv\")\n",
    "data44.head(3)"
   ]
  },
  {
   "cell_type": "code",
   "execution_count": null,
   "id": "4f078325",
   "metadata": {},
   "outputs": [],
   "source": [
    "data45 = gpd.read_file(\"data/slr potential economic loss/2.0ft/SLR_Potential_Economic_Loss_-_2.0_Ft._Scenario.geojson\")\n",
    "data45.head(3)"
   ]
  },
  {
   "cell_type": "code",
   "execution_count": null,
   "id": "b8718f8c",
   "metadata": {},
   "outputs": [],
   "source": [
    "data46 = gpd.read_file(\"data/slr potential economic loss/2.0ft/SLR_Potential_Economic_Loss_-_2.0_Ft._Scenario.kml\")\n",
    "data46.head(3)"
   ]
  },
  {
   "cell_type": "code",
   "execution_count": null,
   "id": "62dfc927",
   "metadata": {
    "scrolled": true
   },
   "outputs": [],
   "source": [
    "data47 = gpd.read_file(\"data/slr potential economic loss/2.0ft/SLR_Potential_Economic_Loss_-_2.0_Ft._Scenario\")\n",
    "data47.plot(alpha=0.5, color='grey', edgecolor='black')"
   ]
  },
  {
   "cell_type": "markdown",
   "id": "e25f3eab",
   "metadata": {},
   "source": [
    "### Sea Level Rise Potential Economic Loss Data - 3.2 Ft. Scenario\n",
    "\n",
    "Downloaded from: https://geoportal.hawaii.gov/datasets/e8ef0797c1a64bc89a10edfc5bfd0224_67/explore?location=20.552159%2C-157.260700%2C8.24\n",
    "\n",
    "* `Description`: Potential economic loss based on the value of the land and structures in the county tax parcel database permanently lost due to sea level rise, modeled using a 2.0 foot scenario. \n",
    "* `Source`:  Hawaii Statewide GIS Program Open Data Site \n",
    "* `Lowest Geographic Scale`: st_areashape,\tst_perimetershape, latitude,longetude\n",
    "* `Data formats available`: csv, geojson, kml, shapefile\n",
    "\n",
    "```\n",
    "Attributes: id, st_area(shape), st_perimeter(shape)\n",
    "```"
   ]
  },
  {
   "cell_type": "code",
   "execution_count": null,
   "id": "021e9088",
   "metadata": {
    "scrolled": true
   },
   "outputs": [],
   "source": [
    "data48 = pd.read_csv(\"data/slr potential economic loss/3.2ft/SLR_Potential_Economic_Loss_-_3.2_Ft._Scenario.csv\")\n",
    "data48.head(3)"
   ]
  },
  {
   "cell_type": "code",
   "execution_count": null,
   "id": "7767574d",
   "metadata": {
    "scrolled": true
   },
   "outputs": [],
   "source": [
    "data49 = gpd.read_file(\"data/slr potential economic loss/3.2ft/SLR_Potential_Economic_Loss_-_3.2_Ft._Scenario.geojson\")\n",
    "data49.head(3)"
   ]
  },
  {
   "cell_type": "code",
   "execution_count": null,
   "id": "e8f3c198",
   "metadata": {
    "scrolled": true
   },
   "outputs": [],
   "source": [
    "data50 = gpd.read_file(\"data/slr potential economic loss/3.2ft/SLR_Potential_Economic_Loss_-_3.2_Ft._Scenario.kml\")\n",
    "data50.head(3)"
   ]
  },
  {
   "cell_type": "code",
   "execution_count": null,
   "id": "dd3b8cbf",
   "metadata": {
    "scrolled": true
   },
   "outputs": [],
   "source": [
    "data51 = gpd.read_file(\"data/slr potential economic loss/3.2ft/SLR_Potential_Economic_Loss_-_3.2_Ft._Scenario\")\n",
    "data51.plot(alpha=0.5, color='grey', edgecolor='black')"
   ]
  },
  {
   "cell_type": "markdown",
   "id": "b598c67f",
   "metadata": {},
   "source": [
    "### 1 Pct Coastal Flood Zone with 3.2 ft Sea Level Rise - Statewide Data \n",
    "\n",
    "Downloaded from: https://geoportal.hawaii.gov/datasets/HiStateGIS::1-pct-coastal-flood-zone-with-3-2-ft-sea-level-rise-statewide/about\n",
    "\n",
    "* `Description`: Roads - Honolulu County, as of May, 2021.\n",
    "* `Source`:  1 Pct Coastal Flood Zone with 3.2 ft Sea Level Rise - Statewide\n",
    "* `Lowest Geographic Scale`: st_areashape,\tst_perimetershape, latitude,longetude\n",
    "* `Data formats available`: csv, geojson, kml, shapefile\n",
    "\n",
    "```\n",
    "Attributes: id, st_area(shape), st_perimeter(shape)\n",
    "```"
   ]
  },
  {
   "cell_type": "code",
   "execution_count": null,
   "id": "f4baafba",
   "metadata": {},
   "outputs": [],
   "source": [
    "data52 = pd.read_csv(\"data/1 Pct Coastal Flood Zone with 3.2 ft Sea Level Rise Statewide/1_Pct_Coastal_Flood_Zone_with_3.2_ft_Sea_Level_Rise_-_Statewide.csv\")\n",
    "data52.head(3)"
   ]
  },
  {
   "cell_type": "code",
   "execution_count": null,
   "id": "72692004",
   "metadata": {
    "scrolled": true
   },
   "outputs": [],
   "source": [
    "#data53 = gpd.read_file(\"data/1 Pct Coastal Flood Zone with 3.2 ft Sea Level Rise Statewide/1_Pct_Coastal_Flood_Zone_with_3.2_ft_Sea_Level_Rise_-_Statewide.geojson\")\n",
    "#data53.head(3)"
   ]
  },
  {
   "cell_type": "code",
   "execution_count": null,
   "id": "cbdc9928",
   "metadata": {
    "scrolled": true
   },
   "outputs": [],
   "source": [
    "#data54 = gpd.read_file(\"data/1 Pct Coastal Flood Zone with 3.2 ft Sea Level Rise Statewide/1_Pct_Coastal_Flood_Zone_with_3.2_ft_Sea_Level_Rise_-_Statewide.kml\")\n",
    "#data54.head(3)"
   ]
  },
  {
   "cell_type": "code",
   "execution_count": null,
   "id": "b3d8c6c4",
   "metadata": {
    "scrolled": true
   },
   "outputs": [],
   "source": [
    "data55 = gpd.read_file(\"data/1 Pct Coastal Flood Zone with 3.2 ft Sea Level Rise Statewide/1_Pct_Coastal_Flood_Zone_with_3.2_ft_Sea_Level_Rise_-_Statewide\")\n",
    "data55.plot(alpha=0.5, color='grey', edgecolor='black')"
   ]
  },
  {
   "cell_type": "markdown",
   "id": "e3b0d7df",
   "metadata": {},
   "source": [
    "### SLR Annual High Wave Flooding - 0.5 Ft. Scenario \n",
    "\n",
    "Downloaded from: https://geoportal.hawaii.gov/search?collection=Dataset&groupIds=a247b90d2fd14f60a64c0c75db5d5731\n",
    "* `Description`: Estimated annual high wave flooding, modeled using a 0.5 foot sea level rise scenario.\n",
    "* `Source`:  Hawaii Statewide GIS Program, Data compiled by the Pacific Islands Ocean Observing System (PacIOOS) for the Hawaii Sea Level Rise Viewer \n",
    "* `Lowest Geographic Scale`: st_areashape,\tst_perimetershape, latitude,longetude\n",
    "* `Data formats available`: csv, geojson, kml, shapefile\n",
    "\n",
    "```\n",
    "Attributes: id, st_area(shape), st_perimeter(shape)\n",
    "\n",
    "\n",
    "```"
   ]
  },
  {
   "cell_type": "code",
   "execution_count": null,
   "id": "282031d8",
   "metadata": {
    "scrolled": true
   },
   "outputs": [],
   "source": [
    "data56 = pd.read_csv(\"data/slr highwave flooding/0.5ft/SLR_Annual_High_Wave_Flooding_-_0.5_Ft._Scenario.csv\")\n",
    "data56.head(3)"
   ]
  },
  {
   "cell_type": "code",
   "execution_count": null,
   "id": "c8330be6",
   "metadata": {},
   "outputs": [],
   "source": [
    "data57 = gpd.read_file(\"data/slr highwave flooding/0.5ft/SLR_Annual_High_Wave_Flooding_-_0.5_Ft._Scenario.geojson\")\n",
    "data57.head(3)"
   ]
  },
  {
   "cell_type": "code",
   "execution_count": null,
   "id": "a2f3e5de",
   "metadata": {},
   "outputs": [],
   "source": [
    "data58 = gpd.read_file(\"data/slr highwave flooding/0.5ft/SLR_Annual_High_Wave_Flooding_-_0.5_Ft._Scenario.kml\")\n",
    "data58.head(3)"
   ]
  },
  {
   "cell_type": "code",
   "execution_count": null,
   "id": "650f21a6",
   "metadata": {
    "scrolled": true
   },
   "outputs": [],
   "source": [
    "data59 = gpd.read_file(\"data/slr highwave flooding/0.5ft/SLR_Annual_High_Wave_Flooding_-_0.5_Ft._Scenario\")\n",
    "data59.plot(alpha=0.5, color='grey', edgecolor='black')"
   ]
  },
  {
   "cell_type": "markdown",
   "id": "28ecb623",
   "metadata": {},
   "source": [
    "### SLR Annual High Wave Flooding - 1.1 Ft. Scenario \n",
    "\n",
    "Downloaded from: https://geoportal.hawaii.gov/search?collection=Dataset&groupIds=a247b90d2fd14f60a64c0c75db5d5731\n",
    "* `Description`: Estimated annual high wave flooding, modeled using a 1.1 foot sea level rise scenario.\n",
    "* `Source`:  Hawaii Statewide GIS Program, Data compiled by the Pacific Islands Ocean Observing System (PacIOOS) for the Hawaii Sea Level Rise Viewer \n",
    "* `Lowest Geographic Scale`: st_areashape,\tst_perimetershape, latitude,longetude\n",
    "* `Data formats available`: csv, geojson, kml, shapefile\n",
    "\n",
    "```\n",
    "Attributes: id, st_area(shape), st_perimeter(shape)\n",
    "\n",
    "\n",
    "```"
   ]
  },
  {
   "cell_type": "code",
   "execution_count": null,
   "id": "9a79ff96",
   "metadata": {
    "scrolled": true
   },
   "outputs": [],
   "source": [
    "data60 = pd.read_csv(\"data/slr highwave flooding/1.1ft/SLR_Annual_High_Wave_Flooding_-_1.1_Ft._Scenario.csv\")\n",
    "data60.head(3)"
   ]
  },
  {
   "cell_type": "code",
   "execution_count": null,
   "id": "ed8a1492",
   "metadata": {
    "scrolled": true
   },
   "outputs": [],
   "source": [
    "data61 = gpd.read_file(\"data/slr highwave flooding/1.1ft/SLR_Annual_High_Wave_Flooding_-_1.1_Ft._Scenario.geojson\")\n",
    "data61.head(3)"
   ]
  },
  {
   "cell_type": "code",
   "execution_count": null,
   "id": "90c56997",
   "metadata": {
    "scrolled": true
   },
   "outputs": [],
   "source": [
    "data62 = gpd.read_file(\"data/slr highwave flooding/1.1ft/SLR_Annual_High_Wave_Flooding_-_1.1_Ft._Scenario.kml\")\n",
    "data62.head(3)"
   ]
  },
  {
   "cell_type": "code",
   "execution_count": null,
   "id": "555cc901",
   "metadata": {
    "scrolled": true
   },
   "outputs": [],
   "source": [
    "data63 = gpd.read_file(\"data/slr highwave flooding/1.1ft/SLR_Annual_High_Wave_Flooding_-_1.1_Ft._Scenario\")\n",
    "data63.plot(alpha=0.5, color='grey', edgecolor='black')"
   ]
  },
  {
   "cell_type": "markdown",
   "id": "fd3e98d8",
   "metadata": {},
   "source": [
    "### SLR Annual High Wave Flooding - 2.0 Ft. Scenario \n",
    "\n",
    "Downloaded from: https://geoportal.hawaii.gov/search?collection=Dataset&groupIds=a247b90d2fd14f60a64c0c75db5d5731\n",
    "* `Description`: Estimated annual high wave flooding, modeled using a 2.0 foot sea level rise scenario.\n",
    "* `Source`:  Hawaii Statewide GIS Program, Data compiled by the Pacific Islands Ocean Observing System (PacIOOS) for the Hawaii Sea Level Rise Viewer \n",
    "* `Lowest Geographic Scale`: st_areashape,\tst_perimetershape, latitude,longetude\n",
    "* `Data formats available`: csv, geojson, kml, shapefile\n",
    "\n",
    "```\n",
    "Attributes: id, st_area(shape), st_perimeter(shape)\n",
    "\n",
    "\n",
    "```"
   ]
  },
  {
   "cell_type": "code",
   "execution_count": null,
   "id": "2a64ebd6",
   "metadata": {
    "scrolled": true
   },
   "outputs": [],
   "source": [
    "data64 = pd.read_csv(\"data/slr highwave flooding/2.0ft/SLR_Annual_High_Wave_Flooding_-_2.0_Ft._Scenario.csv\")\n",
    "data64.head(3)"
   ]
  },
  {
   "cell_type": "code",
   "execution_count": null,
   "id": "b8a0fa7a",
   "metadata": {
    "scrolled": true
   },
   "outputs": [],
   "source": [
    "data65 = gpd.read_file(\"data/slr highwave flooding/2.0ft/SLR_Annual_High_Wave_Flooding_-_2.0_Ft._Scenario.geojson\")\n",
    "data65.head(3)"
   ]
  },
  {
   "cell_type": "code",
   "execution_count": null,
   "id": "93070f58",
   "metadata": {
    "scrolled": true
   },
   "outputs": [],
   "source": [
    "data66 = gpd.read_file(\"data/slr highwave flooding/2.0ft/SLR_Annual_High_Wave_Flooding_-_2.0_Ft._Scenario.kml\")\n",
    "data66.head(3)"
   ]
  },
  {
   "cell_type": "code",
   "execution_count": null,
   "id": "d7088f37",
   "metadata": {
    "scrolled": true
   },
   "outputs": [],
   "source": [
    "data67 = gpd.read_file(\"data/slr highwave flooding/2.0ft/SLR_Annual_High_Wave_Flooding_-_2.0_Ft._Scenario\")\n",
    "data67.plot(alpha=0.5, color='grey', edgecolor='black')"
   ]
  },
  {
   "cell_type": "markdown",
   "id": "cb134fda",
   "metadata": {},
   "source": [
    "### SLR Annual High Wave Flooding - 3.2 Ft. Scenario \n",
    "\n",
    "Downloaded from: https://geoportal.hawaii.gov/search?collection=Dataset&groupIds=a247b90d2fd14f60a64c0c75db5d5731\n",
    "* `Description`: Estimated annual high wave flooding, modeled using a 3.2 foot sea level rise scenario.\n",
    "* `Source`:  Hawaii Statewide GIS Program, Data compiled by the Pacific Islands Ocean Observing System (PacIOOS) for the Hawaii Sea Level Rise Viewer \n",
    "* `Lowest Geographic Scale`: st_areashape,\tst_perimetershape, latitude,longetude\n",
    "* `Data formats available`: csv, geojson, kml, shapefile\n",
    "\n",
    "```\n",
    "Attributes: id, st_area(shape), st_perimeter(shape)\n",
    "\n",
    "\n",
    "```"
   ]
  },
  {
   "cell_type": "code",
   "execution_count": null,
   "id": "ebd1cde8",
   "metadata": {
    "scrolled": true
   },
   "outputs": [],
   "source": [
    "data68 = pd.read_csv(\"data/slr highwave flooding/3.2ft/SLR_Annual_High_Wave_Flooding_-_3.2_Ft._Scenario.csv\")\n",
    "data68.head(3)"
   ]
  },
  {
   "cell_type": "code",
   "execution_count": null,
   "id": "e253b245",
   "metadata": {
    "scrolled": true
   },
   "outputs": [],
   "source": [
    "data69 = gpd.read_file(\"data/slr highwave flooding/3.2ft/SLR_Annual_High_Wave_Flooding_-_3.2_Ft._Scenario.geojson\")\n",
    "data69.head(3)"
   ]
  },
  {
   "cell_type": "code",
   "execution_count": null,
   "id": "0defa9b4",
   "metadata": {},
   "outputs": [],
   "source": [
    "data70 = gpd.read_file(\"data/slr highwave flooding/3.2ft/SLR_Annual_High_Wave_Flooding_-_3.2_Ft._Scenario.kml\")\n",
    "data70.head(3)"
   ]
  },
  {
   "cell_type": "code",
   "execution_count": null,
   "id": "3334a6c4",
   "metadata": {
    "scrolled": true
   },
   "outputs": [],
   "source": [
    "data71 = gpd.read_file(\"data/slr highwave flooding/3.2ft/SLR_Annual_High_Wave_Flooding_-_3.2_Ft._Scenario\")\n",
    "data71.plot(alpha=0.5, color='grey', edgecolor='black')"
   ]
  },
  {
   "cell_type": "markdown",
   "id": "5c86ed75",
   "metadata": {},
   "source": [
    "### Sewer Main Oahu Data\n",
    "\n",
    "Downloaded from: https://honolulu-cchnl.opendata.arcgis.com/datasets/sewer-mains/explore?location=21.315437%2C-158.094275%2C15.00\n",
    "\n",
    "* `Description`: Main sewer lines in Oahu updated December 19, 2023\n",
    "* `Source`:  HonoluluGIS Office - HOLIS City & County of Honolulu GIS\n",
    "* `Lowest Geographic Scale`: Latitute, Longitude; Address\n",
    "* `Data formats available`: csv, geojson, kml,shapefile\n",
    "\n"
   ]
  },
  {
   "cell_type": "code",
   "execution_count": null,
   "id": "9ee415a0",
   "metadata": {},
   "outputs": [],
   "source": [
    "data72 = pd.read_csv('data/sewer main/Sewer_-_Mains.csv')\n",
    "data72.head(3)"
   ]
  },
  {
   "cell_type": "code",
   "execution_count": null,
   "id": "ac3b1597",
   "metadata": {},
   "outputs": [],
   "source": [
    "data73 = gpd.read_file('data/sewer main/Sewer_-_Mains.geojson')\n",
    "data73.head(3)"
   ]
  },
  {
   "cell_type": "code",
   "execution_count": null,
   "id": "88d77dfc",
   "metadata": {},
   "outputs": [],
   "source": [
    "data74 = gpd.read_file('data/sewer main/Sewer_-_Mains')\n",
    "data74.plot(alpha=1, color='black', edgecolor='black')"
   ]
  },
  {
   "cell_type": "markdown",
   "id": "fc9abf68",
   "metadata": {},
   "source": [
    "### Wastewater Treatment Plants Data \n",
    "\n",
    "Downloaded from: https://geoportal.hawaii.gov/datasets/wastewater-treatment-plants/explore?location=20.645530%2C-157.362250%2C8.00\n",
    "\n",
    "* `Description`: Wastewater Treatment Plants as of January, 2023. \n",
    "* `Source`:  Hawaii Statewide GIS Program \n",
    "* `Lowest Geographic Scale`: Latitute, Longitude, address\n",
    "* `Data formats available`: csv, geojson, kml"
   ]
  },
  {
   "cell_type": "code",
   "execution_count": null,
   "id": "8220c0c4",
   "metadata": {},
   "outputs": [],
   "source": [
    "data75 = pd.read_csv('data/assisted living facilities/Assisted_Living_Facilities.csv')\n",
    "data75.head(3)"
   ]
  },
  {
   "cell_type": "code",
   "execution_count": null,
   "id": "8526bc0b",
   "metadata": {},
   "outputs": [],
   "source": [
    "data76 = gpd.read_file('data/assisted living facilities/Assisted_Living_Facilities.geojson')\n",
    "data76.head(3)"
   ]
  },
  {
   "cell_type": "code",
   "execution_count": null,
   "id": "cc4e8c77",
   "metadata": {},
   "outputs": [],
   "source": [
    "data77 = gpd.read_file(\"data/assisted living facilities/Assisted_Living_Facilities.kml\", driver=\"KML\")\n",
    "data77.head(3)"
   ]
  },
  {
   "cell_type": "markdown",
   "id": "f3c719ed",
   "metadata": {},
   "source": [
    "### Public Schools Data\n",
    "\n",
    "Downloaded from: https://geoportal.hawaii.gov/datasets/public-schools/explore?location=20.623840%2C-157.481550%2C8.26\n",
    "\n",
    "* `Description`: Public School locations for the main Hawaiian Islands as of July 2023.NOTE: This data layer shows the location and status of public schools BEFORE THE MAUI WILDFIRES OF AUGUST 2023. \n",
    "* `Source`:  Hawaii Statewide GIS Program\n",
    "* `Lowest Geographic Scale`: Latitute, Longitude; Address\n",
    "* `Data formats available`: csv, geojson, kml,shapefile\n",
    "\n",
    "```\n",
    "X: Longitude\n",
    "Y: Latitude\n",
    "ojbectid: Object ID\n",
    "sch_code: School Code\n",
    "sch_name: Name of School\n",
    "address: Address\n",
    "city: City\n",
    "zip: Zipcode\n",
    "phone: Phone Number\n",
    "fax: Fax Number\n",
    "Principal: Name of Principal\n",
    "grade_from: Grade begins \n",
    "grade_to: Grade ends\n",
    "sch_type: Elementary, Middle, High\n",
    "website: Websites\n",
    "complex:\n",
    "complex_area:\n",
    "district: District\n",
    "island: Island\n",
    "charter: 0 - No, 1 - Yes\n",
    "\n",
    "```"
   ]
  },
  {
   "cell_type": "code",
   "execution_count": null,
   "id": "2e9f4b0c",
   "metadata": {},
   "outputs": [],
   "source": [
    "data78 = gpd.read_file(\"data/public schools/Public_Schools.csv\")\n",
    "data78.head(3)"
   ]
  },
  {
   "cell_type": "code",
   "execution_count": null,
   "id": "bc7f11e5",
   "metadata": {},
   "outputs": [],
   "source": [
    "data79 = gpd.read_file(\"data/public schools/Public_Schools.geojson\")\n",
    "data79.head(3)"
   ]
  },
  {
   "cell_type": "code",
   "execution_count": null,
   "id": "cecda675",
   "metadata": {},
   "outputs": [],
   "source": [
    "data80 = gpd.read_file(\"data/public schools/Public_Schools.kml\", driver=\"KML\")\n",
    "data80.head(3)"
   ]
  },
  {
   "cell_type": "code",
   "execution_count": null,
   "id": "8e835186",
   "metadata": {},
   "outputs": [],
   "source": [
    "data81 = gpd.read_file('data/public schools/Public_Schools')\n",
    "data81.plot(alpha=0.5, color='grey', edgecolor='black')"
   ]
  },
  {
   "cell_type": "markdown",
   "id": "a02350fc",
   "metadata": {},
   "source": [
    "### Preschools Data\n",
    "\n",
    "Downloaded from: https://geoportal.hawaii.gov/datasets/preschools/explore?location=20.605675%2C-157.298450%2C8.00\n",
    "\n",
    "* `Description`: Locations of Preschools, Early Education and Early Childcare Centers in the State of Hawaii as of December 2021.\n",
    "* `Source`:  Hawaii Statewide GIS Program\n",
    "* `Lowest Geographic Scale`: Latitute, Longitude; Address\n",
    "* `Data formats available`: csv, geojson, kml,shapefile\n",
    "\n",
    "```\n",
    "X: Longitude\n",
    "Y: Latitude\n",
    "ojbectid: Object ID\n",
    "name: Name of School\n",
    "address: Address\n",
    "city: City\n",
    "zip: Zipcode\n",
    "island_dist: Island\n",
    "type: Licensed Infant/Toddler Center, Public-private partnership, Charter, DOE\n",
    "source: PATCH, EOEL\n",
    "\n",
    "```"
   ]
  },
  {
   "cell_type": "code",
   "execution_count": null,
   "id": "f71fba4c",
   "metadata": {},
   "outputs": [],
   "source": [
    "data82 = gpd.read_file(\"data/preschools/Preschools.csv\")\n",
    "data82.head(3)"
   ]
  },
  {
   "cell_type": "code",
   "execution_count": null,
   "id": "c3b83613",
   "metadata": {},
   "outputs": [],
   "source": [
    "data83 = gpd.read_file(\"data/preschools/Preschools.geojson\")\n",
    "data83.head(3)"
   ]
  },
  {
   "cell_type": "code",
   "execution_count": null,
   "id": "4c1d7f02",
   "metadata": {},
   "outputs": [],
   "source": [
    "data84 = gpd.read_file(\"data/preschools/Preschools.kml\", driver=\"KML\")\n",
    "data84.head(3)"
   ]
  },
  {
   "cell_type": "code",
   "execution_count": null,
   "id": "3941c611",
   "metadata": {},
   "outputs": [],
   "source": [
    "data85 = gpd.read_file('data/preschools/Preschools')\n",
    "data85.plot(alpha=0.5, color='grey', edgecolor='black')"
   ]
  },
  {
   "cell_type": "markdown",
   "id": "1b492c36",
   "metadata": {},
   "source": [
    "### Private Schools Data\n",
    "\n",
    "Downloaded from: https://geoportal.hawaii.gov/datasets/private-schools/explore\n",
    "\n",
    "* `Description`: Private School locations for the main Hawaiian Islands as of November 2021. \n",
    "* `Source`:  Hawaii Association of Independent Schools (HAIS).\n",
    "* `Lowest Geographic Scale`: Latitute, Longitude; Address\n",
    "* `Data formats available`: csv, geojson, kml,shapefile\n",
    "\n",
    "```\n",
    "X: Longitude\n",
    "Y: Latitude\n",
    "ojbectid: Object ID\n",
    "school: Name of School\n",
    "address: Address\n",
    "alt_address: Alternate Address\n",
    "city: City\n",
    "city_dist: City District\n",
    "island: Island\n",
    "state: HI\n",
    "zip: Zipcode\n",
    "website: Website\n",
    "grades: Grades starting from/to\n",
    "gender: Co-ed, Girls Only, Boys Only\n",
    "tuition21: Tuition per grade\n",
    "\n",
    "```"
   ]
  },
  {
   "cell_type": "code",
   "execution_count": null,
   "id": "f640d324",
   "metadata": {},
   "outputs": [],
   "source": [
    "data86 = gpd.read_file(\"data/private schools/Private_Schools.csv\")\n",
    "data86.head(3)"
   ]
  },
  {
   "cell_type": "code",
   "execution_count": null,
   "id": "b82b2df1",
   "metadata": {},
   "outputs": [],
   "source": [
    "data87 = gpd.read_file(\"data/private schools/Private_Schools.geojson\")\n",
    "data87.head(3)"
   ]
  },
  {
   "cell_type": "code",
   "execution_count": null,
   "id": "b0969010",
   "metadata": {},
   "outputs": [],
   "source": [
    "data88 = gpd.read_file(\"data/private schools/Private_Schools.kml\", driver=\"KML\")\n",
    "data88.head(3)"
   ]
  },
  {
   "cell_type": "code",
   "execution_count": null,
   "id": "baf65e28",
   "metadata": {},
   "outputs": [],
   "source": [
    "data89 = gpd.read_file('data/private schools/Private_Schools')\n",
    "data89.plot(alpha=0.5, color='grey', edgecolor='black')"
   ]
  },
  {
   "cell_type": "markdown",
   "id": "355a4d6c",
   "metadata": {},
   "source": [
    "### Community Care Foster Family Homes Data\n",
    "\n",
    "Downloaded from: https://geoportal.hawaii.gov/datasets/HiStateGIS::community-care-foster-family-homes/about\n",
    "\n",
    "* `Description`: Community Care Foster Family Home in the State of Hawaii as of November 2021 \n",
    "* `Source`:  Hawaii State Department of Health Office of Health Care Assurance (OHCA)\n",
    "* `Lowest Geographic Scale`: Latitute, Longitude; Address\n",
    "* `Data formats available`: csv, geojson, kml,shapefile\n",
    "\n",
    "```\n",
    "X: Longitude\n",
    "Y: Latitude\n",
    "ojbectid: Object ID\n",
    "fname: Firstname\n",
    "lname: Lastname\n",
    "pyhsstreet: Street \n",
    "physical_city: City\n",
    "physicalzip: Zip code\n",
    "physisland: Island\n",
    "mailstreet: Mail box address\n",
    "mailcity: Mail Zip code\n",
    "mailstate: Mail State\n",
    "mailzip: Mail Zip\n",
    "mailisland: Mail Island\n",
    "phone: Phone number\n",
    "alt_phone: Alternate phone number\n",
    "cert_date: Certified date\n",
    "renew_date: Renew data\n",
    "numbeds: Number of beds\n"
   ]
  },
  {
   "cell_type": "code",
   "execution_count": null,
   "id": "643ab268",
   "metadata": {},
   "outputs": [],
   "source": [
    "data90 = pd.read_csv(\"data/community Care Foster Family Homes/Community_Care_Foster_Family_Homes.csv\")\n",
    "data90.head(3)"
   ]
  },
  {
   "cell_type": "code",
   "execution_count": null,
   "id": "f6568574",
   "metadata": {},
   "outputs": [],
   "source": [
    "data91 = gpd.read_file(\"data/community Care Foster Family Homes/Community_Care_Foster_Family_Homes.geojson\")\n",
    "data91.head(3)"
   ]
  },
  {
   "cell_type": "code",
   "execution_count": null,
   "id": "879b8666",
   "metadata": {},
   "outputs": [],
   "source": [
    "data92 = gpd.read_file(\"data/community Care Foster Family Homes/Community_Care_Foster_Family_Homes.kml\")\n",
    "data92.head(3)"
   ]
  },
  {
   "cell_type": "code",
   "execution_count": null,
   "id": "e5ff0699",
   "metadata": {},
   "outputs": [],
   "source": [
    "data93 = gpd.read_file('data/community Care Foster Family Homes/Community_Care_Foster_Family_Homes')\n",
    "data93.plot(alpha=0.5, color='grey', edgecolor='black')"
   ]
  },
  {
   "cell_type": "markdown",
   "id": "7c70ddc2",
   "metadata": {},
   "source": [
    "### Household Income Data\n",
    "\n",
    "Downloaded from: https://data.census.gov/table/ACSDT5Y2019.B19001?t=Income%20and%20Poverty&g=040XX00US15$1500000&tid=ACSDT5Y2019.B19001\n",
    "\n",
    "* `Description`: Household Income in the Past 12 Months (2013 - 2021)\n",
    "* `Source`:  American Community Survey, US Census Bureau\n",
    "* `GEO_ID`: 1500000US150010201001 (FIPS code 1500000US:Country, 15:Hawaii State, 001:County, 02010:Census Track,01:Blockgroup)\n",
    "* `Data formats available`: csv\n",
    "```\n",
    "Column Name\tLabel\n",
    "GEO_ID\tGeography\n",
    "NAME\tGeographic Area Name\n",
    "B19001_001E\tEstimate Total\n",
    "B19001_001M\tMargin of Error Total\n",
    "B19001_002E\tEstimate Total Less than $10,000\n",
    "B19001_002M\tMargin of Error Total Less than $10,000\n",
    "B19001_003E\tEstimate!!Total!!$10,000 to $14,999\n",
    "B19001_003M\tMargin of Error!!Total!!$10,000 to $14,999\n",
    "B19001_004E\tEstimate!!Total!!$15,000 to $19,999\n",
    "B19001_004M\tMargin of Error!!Total!!$15,000 to $19,999\n",
    "B19001_005E\tEstimate!!Total!!$20,000 to $24,999\n",
    "B19001_005M\tMargin of Error!!Total!!$20,000 to $24,999\n",
    "B19001_006E\tEstimate!!Total!!$25,000 to $29,999\n",
    "B19001_006M\tMargin of Error!!Total!!$25,000 to $29,999\n",
    "B19001_007E\tEstimate!!Total!!$30,000 to $34,999\n",
    "B19001_007M\tMargin of Error!!Total!!$30,000 to $34,999\n",
    "B19001_008E\tEstimate!!Total!!$35,000 to $39,999\n",
    "B19001_008M\tMargin of Error!!Total!!$35,000 to $39,999\n",
    "B19001_009E\tEstimate!!Total!!$40,000 to $44,999\n",
    "B19001_009M\tMargin of Error!!Total!!$40,000 to $44,999\n",
    "B19001_010E\tEstimate!!Total!!$45,000 to $49,999\n",
    "B19001_010M\tMargin of Error!!Total!!$45,000 to $49,999\n",
    "B19001_011E\tEstimate!!Total!!$50,000 to $59,999\n",
    "B19001_011M\tMargin of Error!!Total!!$50,000 to $59,999\n",
    "B19001_012E\tEstimate!!Total!!$60,000 to $74,999\n",
    "B19001_012M\tMargin of Error!!Total!!$60,000 to $74,999\n",
    "B19001_013E\tEstimate!!Total!!$75,000 to $99,999\n",
    "B19001_013M\tMargin of Error!!Total!!$75,000 to $99,999\n",
    "B19001_014E\tEstimate!!Total!!$100,000 to $124,999\n",
    "B19001_014M\tMargin of Error!!Total!!$100,000 to $124,999\n",
    "B19001_015E\tEstimate!!Total!!$125,000 to $149,999\n",
    "B19001_015M\tMargin of Error!!Total!!$125,000 to $149,999\n",
    "B19001_016E\tEstimate!!Total!!$150,000 to $199,999\n",
    "B19001_016M\tMargin of Error!!Total!!$150,000 to $199,999\n",
    "B19001_017E\tEstimate!!Total!!$200,000 or more\n",
    "B19001_017M\tMargin of Error!!Total!!$200,000 or more\n",
    "```"
   ]
  },
  {
   "cell_type": "code",
   "execution_count": null,
   "id": "11c0f9e9",
   "metadata": {},
   "outputs": [],
   "source": [
    "#2013 Household Income\n",
    "data94 = pd.read_csv('data/household income/ACSDT5Y2013.B19001-Data.csv')\n",
    "data94.head(3)"
   ]
  },
  {
   "cell_type": "code",
   "execution_count": null,
   "id": "c1dc706a",
   "metadata": {},
   "outputs": [],
   "source": [
    "#2014 Household Income\n",
    "data95 = pd.read_csv('data/household income/ACSDT5Y2014.B19001-Data.csv')\n",
    "data95.head(3)"
   ]
  },
  {
   "cell_type": "code",
   "execution_count": null,
   "id": "b2ce103a",
   "metadata": {},
   "outputs": [],
   "source": [
    "#2015 Household Income\n",
    "data96 = pd.read_csv('data/household income/ACSDT5Y2015.B19001-Data.csv')\n",
    "data96.head(3)"
   ]
  },
  {
   "cell_type": "code",
   "execution_count": null,
   "id": "52fa1400",
   "metadata": {},
   "outputs": [],
   "source": [
    "#2016 Household Income\n",
    "data97 = pd.read_csv('data/household income/ACSDT5Y2016.B19001-Data.csv')\n",
    "data97.head(3)"
   ]
  },
  {
   "cell_type": "code",
   "execution_count": null,
   "id": "223aebc7",
   "metadata": {},
   "outputs": [],
   "source": [
    "#2017 Household Income\n",
    "data98 = pd.read_csv('data/household income/ACSDT5Y2017.B19001-Data.csv')\n",
    "data98.head(3)"
   ]
  },
  {
   "cell_type": "code",
   "execution_count": null,
   "id": "e6352d57",
   "metadata": {},
   "outputs": [],
   "source": [
    "#2018 Household Income\n",
    "data99 = pd.read_csv('data/household income/ACSDT5Y2018.B19001-Data.csv')\n",
    "data99.head(3)"
   ]
  },
  {
   "cell_type": "code",
   "execution_count": null,
   "id": "d80d411c",
   "metadata": {},
   "outputs": [],
   "source": [
    "#2019 Household Income\n",
    "data100 = pd.read_csv('data/household income/ACSDT5Y2019.B19001-Data.csv')\n",
    "data100.head(3)"
   ]
  },
  {
   "cell_type": "code",
   "execution_count": null,
   "id": "d5cc3881",
   "metadata": {},
   "outputs": [],
   "source": [
    "#2020 Household Income\n",
    "data101 = pd.read_csv('data/household income/ACSDT5Y2020.B19001-Data.csv')\n",
    "data101.head(3)"
   ]
  },
  {
   "cell_type": "code",
   "execution_count": null,
   "id": "e1014e65",
   "metadata": {},
   "outputs": [],
   "source": [
    "#2021 Household Income\n",
    "data102 = pd.read_csv('data/household income/ACSDT5Y2021.B19001-Data.csv')\n",
    "data102.head(3)"
   ]
  },
  {
   "cell_type": "markdown",
   "id": "d33fd657",
   "metadata": {},
   "source": [
    "### Aggregate Income Deficit Data\n",
    "\n",
    "Downloaded from: https://data.census.gov/table/ACSDT5Y2019.B17011?g=040XX00US15$1500000&y=2019&tid=ACSDT5Y2019.B17011\n",
    "\n",
    "* `Description`: Aggregate Income Deficit (Dollars) in the past 12 months for Families by Family Type, 2019\n",
    "* `Source`:  American Community Survey, US Census Bureau\n",
    "* `GEO_ID`: 1500000US150010201001 (FIPS code 1500000US:Country, 15:Hawaii State, 001:County, 02010:Census Track,01:Blockgroup)\n",
    "* `Data formats available`: csv\n",
    "```\n",
    "Column Name\tLabel\n",
    "GEO_ID\tGeography\n",
    "NAME\tGeographic Area Name\n",
    "B17011_001E\tEstimate!!Aggregate income deficit in the past 12 months:\n",
    "B17011_001M\tMargin of Error!!Aggregate income deficit in the past 12 months:\n",
    "B17011_002E\tEstimate!!Aggregate income deficit in the past 12 months:!!Married-couple family\n",
    "B17011_002M\tMargin of Error!!Aggregate income deficit in the past 12 months:!!Married-couple family\n",
    "B17011_003E\tEstimate!!Aggregate income deficit in the past 12 months:!!Other family:\n",
    "B17011_003M\tMargin of Error!!Aggregate income deficit in the past 12 months:!!Other family:\n",
    "B17011_004E\tEstimate!!Aggregate income deficit in the past 12 months:!!Other family:!!Male householder, no spouse present\n",
    "B17011_004M\tMargin of Error!!Aggregate income deficit in the past 12 months:!!Other family:!!Male householder, no spouse present\n",
    "B17011_005E\tEstimate!!Aggregate income deficit in the past 12 months:!!Other family:!!Female householder, no spouse present\n",
    "B17011_005M\tMargin of Error!!Aggregate income deficit in the past 12 months:!!Other family:!!Female householder, no spouse present!\n",
    "\n",
    "```"
   ]
  },
  {
   "cell_type": "code",
   "execution_count": null,
   "id": "9306ad40",
   "metadata": {},
   "outputs": [],
   "source": [
    "data103 = pd.read_csv('data/aggregate_income_deficit/ACSDT5Y2019.B17011-Data.csv')\n",
    "data103.head(3)"
   ]
  },
  {
   "cell_type": "markdown",
   "id": "78a20b6d",
   "metadata": {},
   "source": [
    "### Developmental Disabilities Domiciliary Homes Data\n",
    "\n",
    "Downloaded from: https://geoportal.hawaii.gov/datasets/HiStateGIS::developmental-disabilities-domiciliary-homes/about\n",
    "\n",
    "* `Description`: Locations of developmental disabilities domiciliary homes in the State of Hawaii as of November 2021.\n",
    "* `Source`: Hawaii State Department of Health Office of Health Care Assurance (OHCA)\n",
    "* `Lowest Geographic Scale`: Latitute, Longitude; Address\n",
    "* `Data formats available`: csv, geojson, kml,shapefile\n",
    "\n",
    "```\n",
    "X: Longitude\n",
    "Y: Latitude\n",
    "ojbectid: Object ID\n",
    "facname: Facility name\n",
    "street: Street \n",
    "city: City\n",
    "zip: Zip code\n",
    "island: Island\n",
    "phone: Phone number\n",
    "lic_exp: License Expiration\n",
    "license_num: License Number\n",
    "```"
   ]
  },
  {
   "cell_type": "code",
   "execution_count": null,
   "id": "fb78828c",
   "metadata": {},
   "outputs": [],
   "source": [
    "data104 = pd.read_csv(\"data/develpmental disabilities homes/Developmental_Disabilities_Domiciliary_Homes.csv\")\n",
    "data104.head(3)"
   ]
  },
  {
   "cell_type": "code",
   "execution_count": null,
   "id": "d0d88add",
   "metadata": {},
   "outputs": [],
   "source": [
    "data105 = gpd.read_file(\"data/develpmental disabilities homes/Developmental_Disabilities_Domiciliary_Homes.geojson\")\n",
    "data105.head(3)"
   ]
  },
  {
   "cell_type": "code",
   "execution_count": null,
   "id": "25c1d79e",
   "metadata": {},
   "outputs": [],
   "source": [
    "data106 = gpd.read_file(\"data/develpmental disabilities homes/Developmental_Disabilities_Domiciliary_Homes\")\n",
    "data106.plot(alpha=0.5, color='grey', edgecolor='black')"
   ]
  },
  {
   "cell_type": "markdown",
   "id": "f63be66d",
   "metadata": {},
   "source": [
    "### Skilled Nursing Facilities Data\n",
    "\n",
    "Downloaded from: https://geoportal.hawaii.gov/datasets/HiStateGIS::skilled-nursing-facilities/about\n",
    "\n",
    "* `Description`: Skilled Nursing Facilities in the State of Hawaii as of November 2021.\n",
    "* `Source`: Hawaii State Department of Health Office of Health Care Assurance (OHCA)\n",
    "* `Lowest Geographic Scale`: Latitute, Longitude; Address\n",
    "* `Data formats available`: csv, geojson, kml,shapefile\n",
    "\n",
    "```\n",
    "X: Longitude\n",
    "Y: Latitude\n",
    "ojbectid: Object ID\n",
    "name: Facility name\n",
    "licensed_beds: Number of Licensed Beds\n",
    "mailing_address: Mailing Address\n",
    "physical_address: Physical Address\n",
    "island: Island\n",
    "phone: Phone number\n",
    "fax: Fax number\n",
    "POC: Point of Contact\n",
    "website: Website URL\n",
    "cert_num: Certification number\n",
    "adult_day: Adult Day Yes/\n",
    "```"
   ]
  },
  {
   "cell_type": "code",
   "execution_count": null,
   "id": "d912029f",
   "metadata": {},
   "outputs": [],
   "source": [
    "data107 = pd.read_csv(\"data/skilled nursing facilities/Skilled_Nursing_Facilities.csv\")\n",
    "data107.head(3)"
   ]
  },
  {
   "cell_type": "code",
   "execution_count": null,
   "id": "8482f7d4",
   "metadata": {},
   "outputs": [],
   "source": [
    "data108 = gpd.read_file(\"data/skilled nursing facilities/Skilled_Nursing_Facilities.geojson\")\n",
    "data108.head(3)"
   ]
  },
  {
   "cell_type": "code",
   "execution_count": null,
   "id": "ff9ded58",
   "metadata": {},
   "outputs": [],
   "source": [
    "data109 = gpd.read_file(\"data/skilled nursing facilities/Skilled_Nursing_Facilities.kml\")\n",
    "data109.head(3)"
   ]
  },
  {
   "cell_type": "code",
   "execution_count": null,
   "id": "a655ecea",
   "metadata": {},
   "outputs": [],
   "source": [
    "data110 = gpd.read_file(\"data/skilled nursing facilities/Skilled_Nursing_Facilities\")\n",
    "data110.plot(alpha=0.5, color='grey', edgecolor='black')"
   ]
  },
  {
   "cell_type": "markdown",
   "id": "6cf5e0d7",
   "metadata": {},
   "source": [
    "### Fire Station (Statewide) Data\n",
    "\n",
    "Downloaded from: https://geoportal.hawaii.gov/datasets/hospitals-1/explore?location=20.639400%2C-157.361100%2C8.61&showTable=true\n",
    "\n",
    "* `Description`: Locations of fire stations within the State of Hawaii, as of August, 2017 \n",
    "* `Source`:  Hawaii Statewide GIS Program\n",
    "* `Lowest Geographic Scale`: Latitute, Longitude; Address\n",
    "* `Data formats available`: csv, geojson, kml\n",
    "\n",
    "```\n",
    "X: Latitude\n",
    "Y: Longitude\n",
    "objectid: Object ID\n",
    "name: Fire Station Name\n",
    "island: Island\n",
    "```"
   ]
  },
  {
   "cell_type": "code",
   "execution_count": null,
   "id": "6f3fc42e",
   "metadata": {},
   "outputs": [],
   "source": [
    "data111 = pd.read_csv(\"data/fire stations/Fire_Stations_Statewide.csv\")\n",
    "data111.head(3)"
   ]
  },
  {
   "cell_type": "code",
   "execution_count": null,
   "id": "643a7572",
   "metadata": {},
   "outputs": [],
   "source": [
    "data112 = gpd.read_file(\"data/fire stations/Fire_Stations_Statewide.geojson\")\n",
    "data112.head(3)"
   ]
  },
  {
   "cell_type": "code",
   "execution_count": null,
   "id": "63a305f6",
   "metadata": {},
   "outputs": [],
   "source": [
    "data113 = gpd.read_file(\"data/fire stations/Fire_Stations_Statewide.kml\")\n",
    "data113.head(3)"
   ]
  },
  {
   "cell_type": "code",
   "execution_count": null,
   "id": "861ce0ec",
   "metadata": {},
   "outputs": [],
   "source": [
    "data114 = gpd.read_file(\"data/fire stations/Fire_Stations_Statewide\")\n",
    "data114.plot(alpha=0.5, color='grey', edgecolor='black')"
   ]
  },
  {
   "cell_type": "markdown",
   "id": "75597814",
   "metadata": {},
   "source": [
    "### Police Station (Statewide) Data\n",
    "\n",
    "Downloaded from: https://geoportal.hawaii.gov/datasets/HiStateGIS::police-stations-statewide/about\n",
    "\n",
    "* `Description`: Locations of police stations within the State of Hawaii, as of August, 2017. \n",
    "* `Source`:  Hawaii Statewide GIS Program\n",
    "* `Lowest Geographic Scale`: Latitute, Longitude; Address\n",
    "* `Data formats available`: csv, geojson, kml, shapefile\n",
    "\n",
    "```\n",
    "X: Latitude\n",
    "Y: Longitude\n",
    "objectid: Object ID\n",
    "name: Fire Station Name\n",
    "island: Island\n",
    "```"
   ]
  },
  {
   "cell_type": "code",
   "execution_count": null,
   "id": "019e6f47",
   "metadata": {},
   "outputs": [],
   "source": [
    "data115= pd.read_csv(\"data/police stations/Police_Stations_Statewide.csv\")\n",
    "data115.head(3)"
   ]
  },
  {
   "cell_type": "code",
   "execution_count": null,
   "id": "ff330544",
   "metadata": {},
   "outputs": [],
   "source": [
    "data116 = gpd.read_file(\"data/police stations/Police_Stations_Statewide.geojson\")\n",
    "data116.head(3)"
   ]
  },
  {
   "cell_type": "code",
   "execution_count": null,
   "id": "bbe8d49f",
   "metadata": {},
   "outputs": [],
   "source": [
    "data117 = gpd.read_file(\"data/police stations/Police_Stations_Statewide.kml\")\n",
    "data117.head(3)"
   ]
  },
  {
   "cell_type": "code",
   "execution_count": null,
   "id": "6a184786",
   "metadata": {},
   "outputs": [],
   "source": [
    "data118 = gpd.read_file(\"data/police stations/Police_Stations_Statewide\")\n",
    "data118.plot(alpha=0.5, color='grey', edgecolor='black')"
   ]
  },
  {
   "cell_type": "markdown",
   "id": "7f01213a",
   "metadata": {},
   "source": [
    "### Roads - Honolulu County Data \n",
    "\n",
    "Downloaded from: https://geoportal.hawaii.gov/datasets/a3116b61d7b04cc6ba3ea10e632f991a_69/explore?location=21.472056%2C-158.059600%2C9.40\n",
    "\n",
    "* `Description`: Roads - Honolulu County, as of May, 2021.\n",
    "* `Source`:  Honolulu Land Information System (HOLIS), C&C of Honolulu, May 20, 2022 \n",
    "* `Lowest Geographic Scale`: st fullname, lengthshape, zip code\n",
    "* `Data formats available`: csv, geojson, kml, shapefile\n",
    "\n",
    "```\n",
    "\n",
    "```"
   ]
  },
  {
   "cell_type": "code",
   "execution_count": null,
   "id": "d27bcbfd",
   "metadata": {},
   "outputs": [],
   "source": [
    "data119 = pd.read_csv(\"data/roads/Roads_-_Honolulu_County.csv\")\n",
    "data119.head(3)"
   ]
  },
  {
   "cell_type": "code",
   "execution_count": null,
   "id": "e9cda837",
   "metadata": {},
   "outputs": [],
   "source": [
    "data120 = gpd.read_file(\"data/roads/Roads_-_Honolulu_County.geojson\")\n",
    "data120.head(3)"
   ]
  },
  {
   "cell_type": "code",
   "execution_count": null,
   "id": "10af37dc",
   "metadata": {},
   "outputs": [],
   "source": [
    "data121 = gpd.read_file(\"data/roads/Roads_-_Honolulu_County.kml\")\n",
    "data121.head(3)"
   ]
  },
  {
   "cell_type": "code",
   "execution_count": null,
   "id": "8b2103ca",
   "metadata": {},
   "outputs": [],
   "source": [
    "data122 = gpd.read_file(\"data/roads/Roads_-_Honolulu_County\")\n",
    "data122.plot(alpha=0.5, color='grey', edgecolor='black')"
   ]
  },
  {
   "cell_type": "markdown",
   "id": "eb8ace8c",
   "metadata": {},
   "source": [
    "### On-site Sewage Disposal Systems - Oahu\n",
    "\n",
    "Downloaded from: https://geoportal.hawaii.gov/datasets/3d638ed89da245949de574c02b5dc911_22/explore\n",
    "\n",
    "* `Description`: On-site Sewage Disposal Systems for the island of Oahu, as of 2008.\n",
    "* `Source`:  State of Hawaii Department of Health, May, 2017.\n",
    "* `Lowest Geographic Scale`: latitude,longetude\n",
    "* `Data formats available`: csv, geojson, kml, shapefile\n",
    "\n",
    "```\n",
    "\n",
    "```"
   ]
  },
  {
   "cell_type": "code",
   "execution_count": null,
   "id": "d613edcf",
   "metadata": {},
   "outputs": [],
   "source": [
    "data123 = pd.read_csv(\"data/onsite sewage disposal systems/On-site_Sewage_Disposal_Systems_-_Oahu.csv\")\n",
    "data123.head(3)"
   ]
  },
  {
   "cell_type": "code",
   "execution_count": null,
   "id": "e350403b",
   "metadata": {},
   "outputs": [],
   "source": [
    "data124 = gpd.read_file(\"data/onsite sewage disposal systems/On-site_Sewage_Disposal_Systems_-_Oahu.geojson\")\n",
    "data124.head(3)"
   ]
  },
  {
   "cell_type": "code",
   "execution_count": null,
   "id": "03477bfa",
   "metadata": {},
   "outputs": [],
   "source": [
    "data125 = gpd.read_file(\"data/onsite sewage disposal systems/On-site_Sewage_Disposal_Systems_-_Oahu.kml\")\n",
    "data125.head(3)"
   ]
  },
  {
   "cell_type": "code",
   "execution_count": null,
   "id": "d3dd247a",
   "metadata": {},
   "outputs": [],
   "source": [
    "data126 = gpd.read_file(\"data/onsite sewage disposal systems/On-site_Sewage_Disposal_Systems_-_Oahu\")\n",
    "data126.plot(alpha=0.5, color='grey', edgecolor='black')"
   ]
  },
  {
   "cell_type": "markdown",
   "id": "52850f6a",
   "metadata": {},
   "source": [
    "### ALICE\n",
    "\n",
    "Downloaded from: https://www.unitedforalice.org/county-profiles/hawaii\n",
    "\n",
    "* `Description`: American Community Survey estimates: data for counties with populations over 65,000 are 1-year estimates; for populations between 20,000 and 65,000, data are 3-year estimates; and for populations below 20,000, data are 5-year estimates.\n",
    "* `Source`:  Swww.UnitedForALICE.org\n",
    "* `Lowest Geographic Scale`: GEO.id2, county\n",
    "* `Data formats available`: csv\n",
    "\n",
    "```\n",
    "Households:\tTotal number of households reporting income\n",
    "Poverty Households:\tNumber of households in Poverty\n",
    "ALICE Households:\tNumber of households ALICE\n",
    "Above ALICE Households:\tNumber of households above the ALICE Threshold\n",
    "ALICE Threshold - HH 65 years and over\tALICE Threshold for households headed by someone 65 years and over\n",
    "ALICE Threshold - HH under 65\tALICE Threshold for households headed by someone under 65 years\n",
    "Households:\tTotal number of households reporting income\n",
    "Poverty Households:\tNumber of households in Poverty\n",
    "ALICE Households:\tNumber of households ALICE\n",
    "\n",
    "\n",
    "```"
   ]
  },
  {
   "cell_type": "code",
   "execution_count": null,
   "id": "16ffe424",
   "metadata": {
    "scrolled": true
   },
   "outputs": [],
   "source": [
    "data127 = pd.read_csv(\"data/Alice/county.csv\")\n",
    "data127.head(3)"
   ]
  },
  {
   "cell_type": "code",
   "execution_count": null,
   "id": "bf938131",
   "metadata": {},
   "outputs": [],
   "source": [
    "data128 = pd.read_csv(\"data/Alice/subcounty,places,zipcodes.csv\")\n",
    "data128.head(3)"
   ]
  },
  {
   "cell_type": "markdown",
   "id": "deab4629",
   "metadata": {},
   "source": [
    "### TYPES OF HEALTH INSURANCE COVERAGE BY AGE Data\n",
    "\n",
    "Downloaded from: https://data.census.gov/table/ACSDT5Y2019.B27010?t=Health%20Insurance&g=050XX00US15003$1500000&y=2019&tid=ACSDT5Y2019.B27010\n",
    "\n",
    "* `Description`: Beginning in 2017, selected variable categories were updated, including age-categories, income-to-poverty ratio (IPR) categories, and the age universe for certain employment and education variables.\n",
    "* `Source`:  American Community Survey, US Census Bureau\n",
    "* `Lowest Geographic Scale`: GEO_id, county\n",
    "* `Data formats available`: csv\n",
    "\n",
    "```\n",
    "Column Name\tLabel\n",
    "GEO_ID\tGeography\n",
    "NAME\tGeographic Area Name\n",
    "B27010_001E\tEstimate!!Total:\n",
    "B27010_001M\tMargin of Error!!Total:\n",
    "B27010_002E\tEstimate!!Total:!!Under 19 years:\n",
    "B27010_002M\tMargin of Error!!Total:!!Under 19 years:\n",
    "B27010_003E\tEstimate!!Total:!!Under 19 years:!!With one type of health insurance coverage:\n",
    "B27010_003M\tMargin of Error!!Total:!!Under 19 years:!!With one type of health insurance coverage:\n",
    "B27010_004E\tEstimate!!Total:!!Under 19 years:!!With one type of health insurance coverage:!!With employer-based health insurance only\n",
    "B27010_004M\tMargin of Error!!Total:!!Under 19 years:!!With one type of health insurance coverage:!!With employer-based health insurance only\n",
    "B27010_005E\tEstimate!!Total:!!Under 19 years:!!With one type of health insurance coverage:!!With direct-purchase health insurance only\n",
    "B27010_005M\tMargin of Error!!Total:!!Under 19 years:!!With one type of health insurance coverage:!!With direct-purchase health insurance only\n",
    "B27010_006E\tEstimate!!Total:!!Under 19 years:!!With one type of health insurance coverage:!!With Medicare coverage only\n",
    "B27010_006M\tMargin of Error!!Total:!!Under 19 years:!!With one type of health insurance coverage:!!With Medicare coverage only\n",
    "B27010_007E\tEstimate!!Total:!!Under 19 years:!!With one type of health insurance coverage:!!With Medicaid/means-tested public coverage only\n",
    "B27010_007M\tMargin of Error!!Total:!!Under 19 years:!!With one type of health insurance coverage:!!With Medicaid/means-tested public coverage only\n",
    "B27010_008E\tEstimate!!Total:!!Under 19 years:!!With one type of health insurance coverage:!!With TRICARE/military health coverage only\n",
    "B27010_008M\tMargin of Error!!Total:!!Under 19 years:!!With one type of health insurance coverage:!!With TRICARE/military health coverage only\n",
    "B27010_009E\tEstimate!!Total:!!Under 19 years:!!With one type of health insurance coverage:!!With VA Health Care only\n",
    "B27010_009M\tMargin of Error!!Total:!!Under 19 years:!!With one type of health insurance coverage:!!With VA Health Care only\n",
    "B27010_010E\tEstimate!!Total:!!Under 19 years:!!With two or more types of health insurance coverage:\n",
    "B27010_010M\tMargin of Error!!Total:!!Under 19 years:!!With two or more types of health insurance coverage:\n",
    "B27010_011E\tEstimate!!Total:!!Under 19 years:!!With two or more types of health insurance coverage:!!With employer-based and direct-purchase coverage\n",
    "B27010_011M\tMargin of Error!!Total:!!Under 19 years:!!With two or more types of health insurance coverage:!!With employer-based and direct-purchase coverage\n",
    "B27010_012E\tEstimate!!Total:!!Under 19 years:!!With two or more types of health insurance coverage:!!With employer-based and Medicare coverage\n",
    "B27010_012M\tMargin of Error!!Total:!!Under 19 years:!!With two or more types of health insurance coverage:!!With employer-based and Medicare coverage\n",
    "B27010_013E\tEstimate!!Total:!!Under 19 years:!!With two or more types of health insurance coverage:!!With Medicare and Medicaid/means-tested public coverage\n",
    "B27010_013M\tMargin of Error!!Total:!!Under 19 years:!!With two or more types of health insurance coverage:!!With Medicare and Medicaid/means-tested public coverage\n",
    "B27010_014E\tEstimate!!Total:!!Under 19 years:!!With two or more types of health insurance coverage:!!Other private only combinations\n",
    "B27010_014M\tMargin of Error!!Total:!!Under 19 years:!!With two or more types of health insurance coverage:!!Other private only combinations\n",
    "B27010_015E\tEstimate!!Total:!!Under 19 years:!!With two or more types of health insurance coverage:!!Other public only combinations\n",
    "B27010_015M\tMargin of Error!!Total:!!Under 19 years:!!With two or more types of health insurance coverage:!!Other public only combinations\n",
    "B27010_016E\tEstimate!!Total:!!Under 19 years:!!With two or more types of health insurance coverage:!!Other coverage combinations\n",
    "B27010_016M\tMargin of Error!!Total:!!Under 19 years:!!With two or more types of health insurance coverage:!!Other coverage combinations\n",
    "B27010_017E\tEstimate!!Total:!!Under 19 years:!!No health insurance coverage\n",
    "B27010_017M\tMargin of Error!!Total:!!Under 19 years:!!No health insurance coverage\n",
    "B27010_018E\tEstimate!!Total:!!19 to 34 years:\n",
    "B27010_018M\tMargin of Error!!Total:!!19 to 34 years:\n",
    "B27010_019E\tEstimate!!Total:!!19 to 34 years:!!With one type of health insurance coverage:\n",
    "B27010_019M\tMargin of Error!!Total:!!19 to 34 years:!!With one type of health insurance coverage:\n",
    "B27010_020E\tEstimate!!Total:!!19 to 34 years:!!With one type of health insurance coverage:!!With employer-based health insurance only\n",
    "B27010_020M\tMargin of Error!!Total:!!19 to 34 years:!!With one type of health insurance coverage:!!With employer-based health insurance only\n",
    "B27010_021E\tEstimate!!Total:!!19 to 34 years:!!With one type of health insurance coverage:!!With direct-purchase health insurance only\n",
    "B27010_021M\tMargin of Error!!Total:!!19 to 34 years:!!With one type of health insurance coverage:!!With direct-purchase health insurance only\n",
    "B27010_022E\tEstimate!!Total:!!19 to 34 years:!!With one type of health insurance coverage:!!With Medicare coverage only\n",
    "B27010_022M\tMargin of Error!!Total:!!19 to 34 years:!!With one type of health insurance coverage:!!With Medicare coverage only\n",
    "B27010_023E\tEstimate!!Total:!!19 to 34 years:!!With one type of health insurance coverage:!!With Medicaid/means-tested public coverage only\n",
    "B27010_023M\tMargin of Error!!Total:!!19 to 34 years:!!With one type of health insurance coverage:!!With Medicaid/means-tested public coverage only\n",
    "B27010_024E\tEstimate!!Total:!!19 to 34 years:!!With one type of health insurance coverage:!!With TRICARE/military health coverage only\n",
    "B27010_024M\tMargin of Error!!Total:!!19 to 34 years:!!With one type of health insurance coverage:!!With TRICARE/military health coverage only\n",
    "B27010_025E\tEstimate!!Total:!!19 to 34 years:!!With one type of health insurance coverage:!!With VA Health Care only\n",
    "B27010_025M\tMargin of Error!!Total:!!19 to 34 years:!!With one type of health insurance coverage:!!With VA Health Care only\n",
    "B27010_026E\tEstimate!!Total:!!19 to 34 years:!!With two or more types of health insurance coverage:\n",
    "B27010_026M\tMargin of Error!!Total:!!19 to 34 years:!!With two or more types of health insurance coverage:\n",
    "B27010_027E\tEstimate!!Total:!!19 to 34 years:!!With two or more types of health insurance coverage:!!With employer-based and direct-purchase coverage\n",
    "B27010_027M\tMargin of Error!!Total:!!19 to 34 years:!!With two or more types of health insurance coverage:!!With employer-based and direct-purchase coverage\n",
    "B27010_028E\tEstimate!!Total:!!19 to 34 years:!!With two or more types of health insurance coverage:!!With employer-based and Medicare coverage\n",
    "B27010_028M\tMargin of Error!!Total:!!19 to 34 years:!!With two or more types of health insurance coverage:!!With employer-based and Medicare coverage\n",
    "B27010_029E\tEstimate!!Total:!!19 to 34 years:!!With two or more types of health insurance coverage:!!With Medicare and Medicaid/means-tested public coverage\n",
    "B27010_029M\tMargin of Error!!Total:!!19 to 34 years:!!With two or more types of health insurance coverage:!!With Medicare and Medicaid/means-tested public coverage\n",
    "B27010_030E\tEstimate!!Total:!!19 to 34 years:!!With two or more types of health insurance coverage:!!Other private only combinations\n",
    "B27010_030M\tMargin of Error!!Total:!!19 to 34 years:!!With two or more types of health insurance coverage:!!Other private only combinations\n",
    "B27010_031E\tEstimate!!Total:!!19 to 34 years:!!With two or more types of health insurance coverage:!!Other public only combinations\n",
    "B27010_031M\tMargin of Error!!Total:!!19 to 34 years:!!With two or more types of health insurance coverage:!!Other public only combinations\n",
    "B27010_032E\tEstimate!!Total:!!19 to 34 years:!!With two or more types of health insurance coverage:!!Other coverage combinations\n",
    "B27010_032M\tMargin of Error!!Total:!!19 to 34 years:!!With two or more types of health insurance coverage:!!Other coverage combinations\n",
    "B27010_033E\tEstimate!!Total:!!19 to 34 years:!!No health insurance coverage\n",
    "B27010_033M\tMargin of Error!!Total:!!19 to 34 years:!!No health insurance coverage\n",
    "B27010_034E\tEstimate!!Total:!!35 to 64 years:\n",
    "B27010_034M\tMargin of Error!!Total:!!35 to 64 years:\n",
    "B27010_035E\tEstimate!!Total:!!35 to 64 years:!!With one type of health insurance coverage:\n",
    "B27010_035M\tMargin of Error!!Total:!!35 to 64 years:!!With one type of health insurance coverage:\n",
    "B27010_036E\tEstimate!!Total:!!35 to 64 years:!!With one type of health insurance coverage:!!With employer-based health insurance only\n",
    "B27010_036M\tMargin of Error!!Total:!!35 to 64 years:!!With one type of health insurance coverage:!!With employer-based health insurance only\n",
    "B27010_037E\tEstimate!!Total:!!35 to 64 years:!!With one type of health insurance coverage:!!With direct-purchase health insurance only\n",
    "B27010_037M\tMargin of Error!!Total:!!35 to 64 years:!!With one type of health insurance coverage:!!With direct-purchase health insurance only\n",
    "B27010_038E\tEstimate!!Total:!!35 to 64 years:!!With one type of health insurance coverage:!!With Medicare coverage only\n",
    "B27010_038M\tMargin of Error!!Total:!!35 to 64 years:!!With one type of health insurance coverage:!!With Medicare coverage only\n",
    "B27010_039E\tEstimate!!Total:!!35 to 64 years:!!With one type of health insurance coverage:!!With Medicaid/means-tested public coverage only\n",
    "B27010_039M\tMargin of Error!!Total:!!35 to 64 years:!!With one type of health insurance coverage:!!With Medicaid/means-tested public coverage only\n",
    "B27010_040E\tEstimate!!Total:!!35 to 64 years:!!With one type of health insurance coverage:!!With TRICARE/military health coverage only\n",
    "B27010_040M\tMargin of Error!!Total:!!35 to 64 years:!!With one type of health insurance coverage:!!With TRICARE/military health coverage only\n",
    "B27010_041E\tEstimate!!Total:!!35 to 64 years:!!With one type of health insurance coverage:!!With VA Health Care only\n",
    "B27010_041M\tMargin of Error!!Total:!!35 to 64 years:!!With one type of health insurance coverage:!!With VA Health Care only\n",
    "B27010_042E\tEstimate!!Total:!!35 to 64 years:!!With two or more types of health insurance coverage:\n",
    "B27010_042M\tMargin of Error!!Total:!!35 to 64 years:!!With two or more types of health insurance coverage:\n",
    "B27010_043E\tEstimate!!Total:!!35 to 64 years:!!With two or more types of health insurance coverage:!!With employer-based and direct-purchase coverage\n",
    "B27010_043M\tMargin of Error!!Total:!!35 to 64 years:!!With two or more types of health insurance coverage:!!With employer-based and direct-purchase coverage\n",
    "B27010_044E\tEstimate!!Total:!!35 to 64 years:!!With two or more types of health insurance coverage:!!With employer-based and Medicare coverage\n",
    "B27010_044M\tMargin of Error!!Total:!!35 to 64 years:!!With two or more types of health insurance coverage:!!With employer-based and Medicare coverage\n",
    "B27010_045E\tEstimate!!Total:!!35 to 64 years:!!With two or more types of health insurance coverage:!!With direct-purchase and Medicare coverage\n",
    "B27010_045M\tMargin of Error!!Total:!!35 to 64 years:!!With two or more types of health insurance coverage:!!With direct-purchase and Medicare coverage\n",
    "B27010_046E\tEstimate!!Total:!!35 to 64 years:!!With two or more types of health insurance coverage:!!With Medicare and Medicaid/means-tested public coverage\n",
    "B27010_046M\tMargin of Error!!Total:!!35 to 64 years:!!With two or more types of health insurance coverage:!!With Medicare and Medicaid/means-tested public coverage\n",
    "B27010_047E\tEstimate!!Total:!!35 to 64 years:!!With two or more types of health insurance coverage:!!Other private only combinations\n",
    "B27010_047M\tMargin of Error!!Total:!!35 to 64 years:!!With two or more types of health insurance coverage:!!Other private only combinations\n",
    "B27010_048E\tEstimate!!Total:!!35 to 64 years:!!With two or more types of health insurance coverage:!!Other public only combinations\n",
    "B27010_048M\tMargin of Error!!Total:!!35 to 64 years:!!With two or more types of health insurance coverage:!!Other public only combinations\n",
    "B27010_049E\tEstimate!!Total:!!35 to 64 years:!!With two or more types of health insurance coverage:!!Other coverage combinations\n",
    "B27010_049M\tMargin of Error!!Total:!!35 to 64 years:!!With two or more types of health insurance coverage:!!Other coverage combinations\n",
    "B27010_050E\tEstimate!!Total:!!35 to 64 years:!!No health insurance coverage\n",
    "B27010_050M\tMargin of Error!!Total:!!35 to 64 years:!!No health insurance coverage\n",
    "B27010_051E\tEstimate!!Total:!!65 years and over:\n",
    "B27010_051M\tMargin of Error!!Total:!!65 years and over:\n",
    "B27010_052E\tEstimate!!Total:!!65 years and over:!!With one type of health insurance coverage:\n",
    "B27010_052M\tMargin of Error!!Total:!!65 years and over:!!With one type of health insurance coverage:\n",
    "B27010_053E\tEstimate!!Total:!!65 years and over:!!With one type of health insurance coverage:!!With employer-based health insurance only\n",
    "B27010_053M\tMargin of Error!!Total:!!65 years and over:!!With one type of health insurance coverage:!!With employer-based health insurance only\n",
    "B27010_054E\tEstimate!!Total:!!65 years and over:!!With one type of health insurance coverage:!!With direct-purchase health insurance only\n",
    "B27010_054M\tMargin of Error!!Total:!!65 years and over:!!With one type of health insurance coverage:!!With direct-purchase health insurance only\n",
    "B27010_055E\tEstimate!!Total:!!65 years and over:!!With one type of health insurance coverage:!!With Medicare coverage only\n",
    "B27010_055M\tMargin of Error!!Total:!!65 years and over:!!With one type of health insurance coverage:!!With Medicare coverage only\n",
    "B27010_056E\tEstimate!!Total:!!65 years and over:!!With one type of health insurance coverage:!!With TRICARE/military health coverage only\n",
    "B27010_056M\tMargin of Error!!Total:!!65 years and over:!!With one type of health insurance coverage:!!With TRICARE/military health coverage only\n",
    "B27010_057E\tEstimate!!Total:!!65 years and over:!!With one type of health insurance coverage:!!With VA Health Care only\n",
    "B27010_057M\tMargin of Error!!Total:!!65 years and over:!!With one type of health insurance coverage:!!With VA Health Care only\n",
    "B27010_058E\tEstimate!!Total:!!65 years and over:!!With two or more types of health insurance coverage:\n",
    "B27010_058M\tMargin of Error!!Total:!!65 years and over:!!With two or more types of health insurance coverage:\n",
    "B27010_059E\tEstimate!!Total:!!65 years and over:!!With two or more types of health insurance coverage:!!With employer-based and direct-purchase coverage\n",
    "B27010_059M\tMargin of Error!!Total:!!65 years and over:!!With two or more types of health insurance coverage:!!With employer-based and direct-purchase coverage\n",
    "B27010_060E\tEstimate!!Total:!!65 years and over:!!With two or more types of health insurance coverage:!!With employer-based and Medicare coverage\n",
    "B27010_060M\tMargin of Error!!Total:!!65 years and over:!!With two or more types of health insurance coverage:!!With employer-based and Medicare coverage\n",
    "B27010_061E\tEstimate!!Total:!!65 years and over:!!With two or more types of health insurance coverage:!!With direct-purchase and Medicare coverage\n",
    "B27010_061M\tMargin of Error!!Total:!!65 years and over:!!With two or more types of health insurance coverage:!!With direct-purchase and Medicare coverage\n",
    "B27010_062E\tEstimate!!Total:!!65 years and over:!!With two or more types of health insurance coverage:!!With Medicare and Medicaid/means-tested public coverage\n",
    "B27010_062M\tMargin of Error!!Total:!!65 years and over:!!With two or more types of health insurance coverage:!!With Medicare and Medicaid/means-tested public coverage\n",
    "B27010_063E\tEstimate!!Total:!!65 years and over:!!With two or more types of health insurance coverage:!!Other private only combinations\n",
    "B27010_063M\tMargin of Error!!Total:!!65 years and over:!!With two or more types of health insurance coverage:!!Other private only combinations\n",
    "B27010_064E\tEstimate!!Total:!!65 years and over:!!With two or more types of health insurance coverage:!!Other public only combinations\n",
    "B27010_064M\tMargin of Error!!Total:!!65 years and over:!!With two or more types of health insurance coverage:!!Other public only combinations\n",
    "B27010_065E\tEstimate!!Total:!!65 years and over:!!With two or more types of health insurance coverage:!!Other coverage combinations\n",
    "B27010_065M\tMargin of Error!!Total:!!65 years and over:!!With two or more types of health insurance coverage:!!Other coverage combinations\n",
    "B27010_066E\tEstimate!!Total:!!65 years and over:!!No health insurance coverage\n",
    "B27010_066M\tMargin of Error!!Total:!!65 years and over:!!No health insurance coverage\n",
    "\n",
    "```"
   ]
  },
  {
   "cell_type": "code",
   "execution_count": null,
   "id": "018b3aba",
   "metadata": {},
   "outputs": [],
   "source": [
    "data129 = pd.read_csv(\"data/health insurance coverage/ACSDT5Y2019.B27010-Data.csv\")\n",
    "data129.head(3)"
   ]
  },
  {
   "cell_type": "markdown",
   "id": "1a5d14aa",
   "metadata": {},
   "source": [
    "### Limited English Speaking Household Data\n",
    "\n",
    "Downloaded from: https://www.census.gov/quickfacts/fact/table/easthonolulucdphawaii,HI,US/PST045221\n",
    "\n",
    "* `Description`: Quick Facts, East Honolulu CDP, Hawaii; Hawaii; United States\n",
    "* `Source`:  American Community Survey, US Census Bureau\n",
    "* `Lowest Geographic Scale`: FIPS Code, County\n",
    "* `Data formats available`: csv\n"
   ]
  },
  {
   "cell_type": "code",
   "execution_count": null,
   "id": "e0b54fab",
   "metadata": {
    "scrolled": true
   },
   "outputs": [],
   "source": [
    "data130 = pd.read_csv(\"data/limited english speaking household/QuickFacts Jan-23-2024.csv\")\n",
    "data130.head(3)"
   ]
  },
  {
   "cell_type": "markdown",
   "id": "07719f77",
   "metadata": {},
   "source": [
    "### Population under 5yrs Data\n",
    "\n",
    "Downloaded from: https://www.census.gov/quickfacts/fact/table/easthonolulucdphawaii,HI,US/PST045221\n",
    "\n",
    "* `Description`: Quick Facts, East Honolulu CDP, Hawaii; Hawaii; United States\n",
    "* `Source`:  American Community Survey, US Census Bureau\n",
    "* `Lowest Geographic Scale`: FIPS Code, County\n",
    "* `Data formats available`: csv\n"
   ]
  },
  {
   "cell_type": "code",
   "execution_count": null,
   "id": "6fed8e6b",
   "metadata": {},
   "outputs": [],
   "source": [
    "data131 = pd.read_csv(\"data/population under 5yrs/QuickFacts Jan-18-2024.csv\")\n",
    "data131.head(3)"
   ]
  },
  {
   "cell_type": "markdown",
   "id": "8fdc0017",
   "metadata": {},
   "source": [
    "### Population over 65yrs and older Data\n",
    "\n",
    "Downloaded from: https://www.census.gov/quickfacts/fact/table/easthonolulucdphawaii,HI,US/PST045220\n",
    "\n",
    "* `Description`: Quick Facts, East Honolulu CDP, Hawaii; Hawaii; United States\n",
    "* `Source`:  American Community Survey, US Census Bureau\n",
    "* `Lowest Geographic Scale`: FIPS Code, County\n",
    "* `Data formats available`: csv"
   ]
  },
  {
   "cell_type": "code",
   "execution_count": null,
   "id": "7ab160f8",
   "metadata": {},
   "outputs": [],
   "source": [
    "data132 = pd.read_csv(\"data/population over 65yrs and older/QuickFacts Jan-23-2024.csv\")\n",
    "data132.head(3)"
   ]
  },
  {
   "cell_type": "markdown",
   "id": "7428b6a9",
   "metadata": {},
   "source": [
    "\n",
    "### Adult Day Care Center Data\n",
    "\n",
    "Downloaded from: https://geoportal.hawaii.gov/datasets/HiStateGIS::developmental-disabilities-domiciliary-homes/about\n",
    "\n",
    "* `Description`: Locations of adult day health centers in the State of Hawaii as of November 2021\n",
    "* `Source`:   Hawaii State Department of Health Office of Health Care Assurance (OHCA)\n",
    "* `Lowest Geographic Scale`: latitude,longetude\n",
    "* `Data formats available`: csv, geojson, kml, shapefile"
   ]
  },
  {
   "cell_type": "code",
   "execution_count": null,
   "id": "ce0964a6",
   "metadata": {},
   "outputs": [],
   "source": [
    "data133 = pd.read_csv(\"data/adult day care centers/Adult_Day_Health_Centers.csv\")\n",
    "data133.head(3)"
   ]
  },
  {
   "cell_type": "code",
   "execution_count": null,
   "id": "cc22ecb3",
   "metadata": {},
   "outputs": [],
   "source": [
    "data134 = gpd.read_file(\"data/adult day care centers/Adult_Day_Health_Centers.geojson\")\n",
    "data134.head(3)"
   ]
  },
  {
   "cell_type": "code",
   "execution_count": null,
   "id": "ab3f98c5",
   "metadata": {},
   "outputs": [],
   "source": [
    "data135 = gpd.read_file(\"data/adult day care centers/Adult_Day_Health_Centers.kml\")\n",
    "data135.head(3)"
   ]
  },
  {
   "cell_type": "code",
   "execution_count": null,
   "id": "6513eb00",
   "metadata": {},
   "outputs": [],
   "source": [
    "data136 = gpd.read_file(\"data/adult day care centers/Adult_Day_Health_Centers\")\n",
    "data136.plot(alpha=0.5, color='grey', edgecolor='black')"
   ]
  },
  {
   "cell_type": "markdown",
   "id": "8616fd9f",
   "metadata": {},
   "source": [
    "\n",
    "### Hospice Facilities Data\n",
    "\n",
    "Downloaded from: https://geoportal.hawaii.gov/datasets/HiStateGIS::hospice-facilities-1/about\n",
    "\n",
    "* `Description`: Locations of Hospice facilities in the State of Hawaii as of November 2021\n",
    "* `Source`:   Hawaii State Department of Health Office of Health Care Assurance (OHCA)\n",
    "* `Lowest Geographic Scale`: latitude,longetude\n",
    "* `Data formats available`: csv, geojson, kml, shapefile\n",
    "\n",
    "\n"
   ]
  },
  {
   "cell_type": "code",
   "execution_count": null,
   "id": "c05b6c58",
   "metadata": {},
   "outputs": [],
   "source": [
    "data137 = pd.read_csv(\"data/hospice facilities/Hospice_Facilities.csv\")\n",
    "data137.head(3)"
   ]
  },
  {
   "cell_type": "code",
   "execution_count": null,
   "id": "0303bdeb",
   "metadata": {},
   "outputs": [],
   "source": [
    "data138 = gpd.read_file(\"data/hospice facilities/Hospice_Facilities.geojson\")\n",
    "data138.head(3)"
   ]
  },
  {
   "cell_type": "code",
   "execution_count": null,
   "id": "a565de53",
   "metadata": {},
   "outputs": [],
   "source": [
    "data139 = gpd.read_file(\"data/hospice facilities/Hospice_Facilities.kml\")\n",
    "data139.head(3)"
   ]
  },
  {
   "cell_type": "code",
   "execution_count": null,
   "id": "9ea5388b",
   "metadata": {},
   "outputs": [],
   "source": [
    "data140 = gpd.read_file(\"data/hospice facilities/Hospice_Facilities\")\n",
    "data140.plot(alpha=0.5, color='grey', edgecolor='black')"
   ]
  },
  {
   "cell_type": "markdown",
   "id": "6575f26b",
   "metadata": {},
   "source": [
    "\n",
    "### Special Treatment Facilities Data\n",
    "\n",
    "Downloaded from: https://geoportal.hawaii.gov/datasets/HiStateGIS::hospice-facilities-1/about\n",
    "\n",
    "* `Description`: Locations of special treatment facilities in the State of Hawaii as of November 2021.\n",
    "* `Source`:   Hawaii State Department of Health Office of Health Care Assurance (OHCA)\n",
    "* `Lowest Geographic Scale`: latitude,longetude\n",
    "* `Data formats available`: csv, geojson, kml, shapefile"
   ]
  },
  {
   "cell_type": "code",
   "execution_count": null,
   "id": "6906d28a",
   "metadata": {},
   "outputs": [],
   "source": [
    "data141 = pd.read_csv(\"data/special treatment facilities/Special_Treatment_Facilities.csv\")\n",
    "data141.head(3)"
   ]
  },
  {
   "cell_type": "code",
   "execution_count": null,
   "id": "7b71e5cb",
   "metadata": {},
   "outputs": [],
   "source": [
    "data142 = gpd.read_file(\"data/special treatment facilities/Special_Treatment_Facilities.geojson\")\n",
    "data142.head(3)"
   ]
  },
  {
   "cell_type": "code",
   "execution_count": null,
   "id": "f4d6c35e",
   "metadata": {},
   "outputs": [],
   "source": [
    "data143 = gpd.read_file(\"data/special treatment facilities/Special_Treatment_Facilities.kml\")\n",
    "data143.head(3)"
   ]
  },
  {
   "cell_type": "code",
   "execution_count": null,
   "id": "09c0af08",
   "metadata": {},
   "outputs": [],
   "source": [
    "data144 = gpd.read_file(\"data/special treatment facilities/Special_Treatment_Facilities\")\n",
    "data144.plot(alpha=0.5, color='grey', edgecolor='black')"
   ]
  },
  {
   "cell_type": "markdown",
   "id": "43eee11f",
   "metadata": {},
   "source": [
    "### Allocation of industry for the civilian population 16 years and older (by sex)\n",
    "\n",
    "Downloaded from: https://data.census.gov/table/ACSDT5Y2022.B99241?t=Industry&g=040XX00US15$1500000\n",
    "\n",
    "* `Description`: IMPUTATION OF INDUSTRY FOR THE CIVILIAN EMPLOYED POPULATION 16 YEARS AND OVER.\n",
    "* `Source`: ACS US Census Bereau\n",
    "* `Lowest Geographic Scale`: Geo_ID\n",
    "* `Data formats available`: csv\n",
    "\n",
    "```\n",
    "Column Name\tLabel\n",
    "GEO_ID\tGeography\n",
    "NAME\tGeographic Area Name\n",
    "B99241_001E\tEstimate!!Total\n",
    "B99241_002E\tEstimate!!Total!!Imputed\n",
    "B99241_003E\tEstimate!!Total!!Not Imputed![image.png](attachment:image.png)\n",
    "```"
   ]
  },
  {
   "cell_type": "code",
   "execution_count": null,
   "id": "d32b2ca9",
   "metadata": {},
   "outputs": [],
   "source": [
    "#2013\n",
    "data145 = pd.read_csv(\"data/Allocation of industry for the civilian population 16 years and older (by sex)/ACSDT5Y2013.B99241-Data.csv\")\n",
    "data145.head(3)"
   ]
  },
  {
   "cell_type": "code",
   "execution_count": null,
   "id": "337efb80",
   "metadata": {},
   "outputs": [],
   "source": [
    "#2014\n",
    "data146 = pd.read_csv(\"data/Allocation of industry for the civilian population 16 years and older (by sex)/ACSDT5Y2014.B99241-Data.csv\")\n",
    "data146.head(3)"
   ]
  },
  {
   "cell_type": "code",
   "execution_count": null,
   "id": "2b918233",
   "metadata": {},
   "outputs": [],
   "source": [
    "#2015\n",
    "data147 = pd.read_csv(\"data/Allocation of industry for the civilian population 16 years and older (by sex)/ACSDT5Y2015.B99241-Data.csv\")\n",
    "data147.head(3)"
   ]
  },
  {
   "cell_type": "code",
   "execution_count": null,
   "id": "302c07d1",
   "metadata": {},
   "outputs": [],
   "source": [
    "#2016\n",
    "data148 = pd.read_csv(\"data/Allocation of industry for the civilian population 16 years and older (by sex)/ACSDT5Y2016.B99241-Data.csv\")\n",
    "data148.head(3)"
   ]
  },
  {
   "cell_type": "code",
   "execution_count": null,
   "id": "9e813ad6",
   "metadata": {},
   "outputs": [],
   "source": [
    "#2017\n",
    "data149 = pd.read_csv(\"data/Allocation of industry for the civilian population 16 years and older (by sex)/ACSDT5Y2017.B99241-Data.csv\")\n",
    "data149.head(3)"
   ]
  },
  {
   "cell_type": "code",
   "execution_count": null,
   "id": "a54806fe",
   "metadata": {},
   "outputs": [],
   "source": [
    "#2018\n",
    "data150 = pd.read_csv(\"data/Allocation of industry for the civilian population 16 years and older (by sex)/ACSDT5Y2018.B99241-Data.csv\")\n",
    "data150.head(3)"
   ]
  },
  {
   "cell_type": "code",
   "execution_count": null,
   "id": "27b93bb1",
   "metadata": {},
   "outputs": [],
   "source": [
    "#2019\n",
    "data151 = pd.read_csv(\"data/Allocation of industry for the civilian population 16 years and older (by sex)/ACSDT5Y2019.B99241-Data.csv\")\n",
    "data151.head(3)"
   ]
  },
  {
   "cell_type": "code",
   "execution_count": null,
   "id": "caff5cc6",
   "metadata": {},
   "outputs": [],
   "source": [
    "#2020\n",
    "data152 = pd.read_csv(\"data/Allocation of industry for the civilian population 16 years and older (by sex)/ACSDT5Y2020.B99241-Data.csv\")\n",
    "data152.head(3)"
   ]
  },
  {
   "cell_type": "markdown",
   "id": "03550c0f",
   "metadata": {},
   "source": [
    "### GROUP QUARTERS POPULATION BY MAJOR GROUP QUARTERS TYPE\n",
    "\n",
    "Downloaded from: https://data.census.gov/cedsci/table?g=0400000US15%241000000&y=2020&tid=DECENNIALPL2020.P5\n",
    "\n",
    "* `Description`: GROUP QUARTERS POPULATION BY MAJOR GROUP QUARTERS TYPE\n",
    "* `Source`: U.S. Census Bureau\n",
    "* `Lowest Geographic Scale`: Geo_ID\n",
    "* `Data formats available`: csv\n",
    "\n",
    "```\n",
    "Column Name\tLabel\n",
    "GEO_ID\tGeography\n",
    "NAME\tGeographic Area Name\n",
    "P5_001N\t !!Total:\n",
    "P5_002N\t !!Total:!!Institutionalized population:\n",
    "P5_003N\t !!Total:!!Institutionalized population:!!Correctional facilities for adults\n",
    "P5_004N\t !!Total:!!Institutionalized population:!!Juvenile facilities\n",
    "P5_005N\t !!Total:!!Institutionalized population:!!Nursing facilities/Skilled-nursing facilities\n",
    "P5_006N\t !!Total:!!Institutionalized population:!!Other institutional facilities\n",
    "P5_007N\t !!Total:!!Noninstitutionalized population:\n",
    "P5_008N\t !!Total:!!Noninstitutionalized population:!!College/University student housing\n",
    "P5_009N\t !!Total:!!Noninstitutionalized population:!!Military quarters\n",
    "P5_010N\t !!Total:!!Noninstitutionalized population:!!Other noninstitutional facilities\n",
    "```"
   ]
  },
  {
   "cell_type": "code",
   "execution_count": null,
   "id": "014608e6",
   "metadata": {},
   "outputs": [],
   "source": [
    "data153 = pd.read_csv(\"data/population in group quarters/DECENNIALPL2020.P5-Data.csv\")\n",
    "data153.head(3)"
   ]
  },
  {
   "cell_type": "markdown",
   "id": "2d5ea43d",
   "metadata": {},
   "source": [
    "### Persons in Poverty, Percent\n",
    "\n",
    "Downloaded from: https://www.census.gov/quickfacts/fact/table/easthonolulucdphawaii,HI,US/PST045221\n",
    "* `Description`: Quick Facts, East Honolulu CDP, Hawaii; Hawaii; United States\n",
    "* `Source`: U.S. Census Bureau\n",
    "* `Lowest Geographic Scale`: \n",
    "* `Data formats available`: csv\n",
    "\n",
    "```\n",
    "East Honolulu CDP, Hawaii\t\n",
    "Value Note for East Honolulu CDP, Hawaii\t\n",
    "Hawaii\t\n",
    "Value Note for Hawaii\t\n",
    "United States\t\n",
    "Value Note for United States\n",
    "```"
   ]
  },
  {
   "cell_type": "code",
   "execution_count": null,
   "id": "e7277644",
   "metadata": {},
   "outputs": [],
   "source": [
    "data154 = pd.read_csv(\"data/persons in poverty percent/QuickFacts Jan-23-2024.csv\")\n",
    "data154.head(3)"
   ]
  },
  {
   "cell_type": "markdown",
   "id": "0a0666fc",
   "metadata": {},
   "source": [
    "### Therapeutic Living Program Facilities\n",
    "\n",
    "Downloaded from: https://geoportal.hawaii.gov/datasets/HiStateGIS::therapeutic-living-program-facilities/about\n",
    "\n",
    "* `Description`: Locations of therapeutic living program facilities in the State of Hawaii as of November 2021.\n",
    "* `Source`:   Hawaii State Department of Health Office of Health Care Assurance (OHCA)\n",
    "* `Lowest Geographic Scale`: latitude,longetude\n",
    "* `Data formats available`: csv, geojson, kml, shapefiled\n",
    "\n",
    "\n"
   ]
  },
  {
   "cell_type": "code",
   "execution_count": null,
   "id": "5e8869b7",
   "metadata": {},
   "outputs": [],
   "source": [
    "data155 = pd.read_csv(\"data/therapeutic living program facilities/Therapeutic_Living_Program_Facilities.csv\")\n",
    "data155.head(3)"
   ]
  },
  {
   "cell_type": "code",
   "execution_count": null,
   "id": "4d50cc67",
   "metadata": {},
   "outputs": [],
   "source": [
    "data156 = gpd.read_file(\"data/therapeutic living program facilities/Therapeutic_Living_Program_Facilities.geojson\")\n",
    "data156.head(3)"
   ]
  },
  {
   "cell_type": "code",
   "execution_count": null,
   "id": "8f12c14d",
   "metadata": {},
   "outputs": [],
   "source": [
    "data157 = gpd.read_file(\"data/therapeutic living program facilities/Therapeutic_Living_Program_Facilities.kml\")\n",
    "data157.head(3)"
   ]
  },
  {
   "cell_type": "code",
   "execution_count": null,
   "id": "9045a345",
   "metadata": {},
   "outputs": [],
   "source": [
    "data158 = gpd.read_file(\"data/therapeutic living program facilities/Therapeutic_Living_Program_Facilities\")\n",
    "data158.plot(alpha=0.5, color='grey', edgecolor='black')"
   ]
  },
  {
   "cell_type": "markdown",
   "id": "fccc36ee",
   "metadata": {},
   "source": [
    "### Sewer Manholes - Oahu Data\n",
    "\n",
    "Downloaded from: https://honolulu-cchnl.opendata.arcgis.com/datasets/sewer-manhole/explore?location=21.470100%2C-157.954050%2C11.35\n",
    "\n",
    "* `Description`: Locations of Sewer and stormwater datasets. Sewer and stormwater datasets used in web applications.\n",
    "* `Source`:   City and County of Honolulu, Honolulu Land Information System - HOLIS\n",
    "* `Lowest Geographic Scale`: latitude,longetude, stree address\n",
    "* `Data formats available`: csv, geojson, kml, shapefile, gdbtable\n",
    "\n",
    "```\n",
    "Attributes: \n",
    "ANCILLARYROLE, ENABLED, Sewer Id, Basin, Plan Id, Status, Owner,\n",
    "Date Built, Date Dig, Date Mod, Asset Id, Material, Rehab, MANHOLESUBTYPE,\n",
    "Address, Old ID, Rehab Year, Rehab ID, Depth, GPSX, GPSY, CONFIDENCE,\n",
    "NOTES, INSIDEDROP, CoverDiameter, ManholeType, Weir, MH Liner, GROUNDELEV, \n",
    "LOWESTINVERT, Neighborhood\n",
    "```\n"
   ]
  },
  {
   "cell_type": "code",
   "execution_count": null,
   "id": "0ab47f05",
   "metadata": {},
   "outputs": [],
   "source": [
    "data159 = pd.read_csv(\"data/sewer manhole oahu/Utilities.csv\")\n",
    "data159.head(3)"
   ]
  },
  {
   "cell_type": "code",
   "execution_count": null,
   "id": "0c3a5310",
   "metadata": {},
   "outputs": [],
   "source": [
    "data160 = gpd.read_file(\"data/sewer manhole oahu/Utilities.geojson\")\n",
    "data160.head(3)"
   ]
  },
  {
   "cell_type": "code",
   "execution_count": null,
   "id": "8546cac6",
   "metadata": {},
   "outputs": [],
   "source": [
    "data161 = gpd.read_file(\"data/sewer manhole oahu/Utilities.kml\")\n",
    "data161.head(3)"
   ]
  },
  {
   "cell_type": "code",
   "execution_count": null,
   "id": "44f3e959",
   "metadata": {},
   "outputs": [],
   "source": [
    "data162= gpd.read_file(\"data/sewer manhole oahu/Utilities\")\n",
    "data162.plot(alpha=0.5, color='grey', edgecolor='black')"
   ]
  },
  {
   "cell_type": "code",
   "execution_count": null,
   "id": "f131d07d",
   "metadata": {},
   "outputs": [],
   "source": [
    "data163 = gpd.read_file(\"data/sewer manhole oahu/Utilities.gdb\")\n",
    "data163.plot(alpha=0.5, color='grey', edgecolor='black')"
   ]
  },
  {
   "cell_type": "markdown",
   "id": "ba36ba72",
   "metadata": {},
   "source": [
    "### Wastewater Treatment Plants Data\n",
    "\n",
    "Downloaded from: https://geoportal.hawaii.gov/datasets/HiStateGIS::wastewater-treatment-plants/about\n",
    "\n",
    "* `Description`: Wastewater Treatment Plants as of January, 2023. Inventory and location of public and private wastewater treatment plants (WWTP) in the State of Hawaii. \n",
    "* `Source`:   City and County of Honolulu, Honolulu Land Information System - HOLIS\n",
    "* `Lowest Geographic Scale`: latitude,longetude, stree address\n",
    "* `Data formats available`: csv, geojson, kml, shapefile\n",
    "\n",
    "```\n",
    "WWTP_Name: Wastewater Treatment Plant Name\n",
    "County: County for WWTP location.\n",
    "Permit: Permit number. See Note1 below.\n",
    "UIC_Num: Underground Injection Control (UIC) Number. See Note2 below.\n",
    "TMK: Tax Map Key parcel number\n",
    "Type: Facility type (Biosolids, Reuse R1, Reuse R2, Reuse R3, WWTP)\n",
    "Owner_Type: Facility owner type (public, private)\n",
    "Class: Operator Certification Classification (1, 2, 3, 4). \n",
    "ATU_Date: Date that the WWTP was given an Approval-To-Use.\n",
    "LAT_DD: Latitude in decimal degrees, WGS 1984 Web Mercator (auxiliary sphere)\n",
    "LONG_DD: Longitude in decimal degrees, WGS 1984 Web Mercator (auxiliary sphere)\n",
    "```\n"
   ]
  },
  {
   "cell_type": "code",
   "execution_count": null,
   "id": "6b728f56",
   "metadata": {},
   "outputs": [],
   "source": [
    "data164 = pd.read_csv(\"data/waste water treatment plants/Wastewater_Treatment_Plants.csv\")\n",
    "data164.head(3)"
   ]
  },
  {
   "cell_type": "code",
   "execution_count": null,
   "id": "73076dc2",
   "metadata": {},
   "outputs": [],
   "source": [
    "data165 = gpd.read_file(\"data/waste water treatment plants/Wastewater_Treatment_Plants.geojson\")\n",
    "data165.head(3)"
   ]
  },
  {
   "cell_type": "code",
   "execution_count": null,
   "id": "716f3102",
   "metadata": {},
   "outputs": [],
   "source": [
    "data166 = gpd.read_file(\"data/waste water treatment plants/Wastewater_Treatment_Plants.kml\")\n",
    "data166.head(3)"
   ]
  },
  {
   "cell_type": "code",
   "execution_count": null,
   "id": "14406bbe",
   "metadata": {},
   "outputs": [],
   "source": [
    "data167 = gpd.read_file(\"data/waste water treatment plants/Wastewater_Treatment_Plants\")\n",
    "data167.plot(alpha=0.5, color='grey', edgecolor='black')"
   ]
  },
  {
   "cell_type": "markdown",
   "id": "4acfa199",
   "metadata": {},
   "source": [
    "### Sewer - Submersible Pump Data\n",
    "\n",
    "Downloaded from: https://honolulu-cchnl.opendata.arcgis.com/datasets/cchnl::sewer-submersible-pump/about\n",
    "\n",
    "* `Description`: Locations of submersible sewage pumps.\n",
    "* `Source`:   City and County of Honolulu, Honolulu Land Information System - HOLIS\n",
    "* `Lowest Geographic Scale`: latitude,longetude, stree address\n",
    "* `Data formats available`: csv, geojson, kml, shapefile, gdb\n",
    "\n",
    "```\n",
    "Attributes: Enabled, AncillaryRole, SEWERID, BASINID, Plan ID, STATUS, OWNER,\n",
    "Date Built, Date Dig, Date Mod, ADDRESS, TANKCAPACITY, PUMPTYPE, TMK, LPPUMPSUBTYPE,\n",
    "NO_PUMPS, NEIGHBORHOOD, GROUNDELEV\n",
    "```"
   ]
  },
  {
   "cell_type": "code",
   "execution_count": null,
   "id": "47834799",
   "metadata": {},
   "outputs": [],
   "source": [
    "data168 = pd.read_csv(\"data/sewer submersible pump/Sewer__-_Submersible_Pump.csv\")\n",
    "data168.head(3)"
   ]
  },
  {
   "cell_type": "code",
   "execution_count": null,
   "id": "ae365019",
   "metadata": {},
   "outputs": [],
   "source": [
    "data169 = gpd.read_file(\"data/sewer submersible pump/Sewer__-_Submersible_Pump.geojson\")\n",
    "data169.head(3)"
   ]
  },
  {
   "cell_type": "code",
   "execution_count": null,
   "id": "41985e59",
   "metadata": {},
   "outputs": [],
   "source": [
    "data170 = gpd.read_file(\"data/sewer submersible pump/Sewer__-_Submersible_Pump.kml\")\n",
    "data170.head(3)"
   ]
  },
  {
   "cell_type": "code",
   "execution_count": null,
   "id": "ab5f72e7",
   "metadata": {},
   "outputs": [],
   "source": [
    "data171 = gpd.read_file(\"data/sewer submersible pump/Sewer__-_Submersible_Pump\")\n",
    "data171.plot(alpha=0.5, color='grey', edgecolor='black')"
   ]
  },
  {
   "cell_type": "code",
   "execution_count": null,
   "id": "bd82e9df",
   "metadata": {},
   "outputs": [],
   "source": [
    "data172 = gpd.read_file(\"data/sewer submersible pump/Sewer__-_Submersible_Pump.gdb\")\n",
    "data172.plot(alpha=0.5, color='grey', edgecolor='black')"
   ]
  },
  {
   "cell_type": "markdown",
   "id": "b719e557",
   "metadata": {},
   "source": [
    "### Tenure Data\n",
    "\n",
    "Downloaded from: https://data.census.gov/table/ACSDT5Y2019.B25003?g=040XX00US15$1500000&y=2019&tid=ACSDT5Y2019.B25003\n",
    "\n",
    "* `Description`: Tenure 5-year Estimates Data \n",
    "* `Source`:  American Community Survey, US Census Bureau\n",
    "* `Lowest Geographic Scale`: Geo_ID\n",
    "* `Data formats available`: csv\n",
    "\n",
    "```\n",
    "Column Name\tLabel\n",
    "GEO_ID\tGeography\n",
    "NAME\tGeographic Area Name\n",
    "B25003_001E\tEstimate!!Total:\n",
    "B25003_001M\tMargin of Error!!Total:\n",
    "B25003_002E\tEstimate!!Total:!!Owner occupied\n",
    "B25003_002M\tMargin of Error!!Total:!!Owner occupied\n",
    "B25003_003E\tEstimate!!Total:!!Renter occupied\n",
    "B25003_003M\tMargin of Error!!Total:!!Renter occupied![image.png](attachment:image.png)\n",
    "```"
   ]
  },
  {
   "cell_type": "code",
   "execution_count": null,
   "id": "c3a6c87f",
   "metadata": {},
   "outputs": [],
   "source": [
    "data173 = pd.read_csv(\"data/tenure/ACSDT5Y2019.B25003-Data.csv\")\n",
    "data173.head(3)"
   ]
  },
  {
   "cell_type": "markdown",
   "id": "dc394b2f",
   "metadata": {},
   "source": [
    "### Intermediate Care Facilities for Individuals with Intellectual Disabilities Data\n",
    "\n",
    "Downloaded from: https://geoportal.hawaii.gov/datasets/HiStateGIS::intermediate-care-facilities-for-individuals-with-intellectual-disabilities/about\n",
    "\n",
    "* `Description`: Locations of Intermediate Care Facilities for Individuals w/ Intellectual Disabilities as of November 2021. \n",
    "* `Source`:  Hawaii State Department of Health Office of Health Care Assurance (OHCA)\n",
    "* `Lowest Geographic Scale`: lat, long, Mailing Address\n",
    "* `Data formats available`: csv, geojson, kml, shape\n",
    "\n",
    "```\n",
    "Name Facility Name\n",
    "Licensed_B Licensed Bed Count\n",
    "Island Island\n",
    "Mailing_Ad Mailing Address\n",
    "Physical_A Physical Address*\n",
    "Phone_Numb Phone Number\n",
    "Alternate_ Alternative Phone Number\n",
    "Fax Fax\n",
    "POC Point of Contact\n",
    "Website Website\n",
    "Provider_N Provider Number\n",
    "```\n",
    "\n"
   ]
  },
  {
   "cell_type": "code",
   "execution_count": null,
   "id": "71dbf5af",
   "metadata": {},
   "outputs": [],
   "source": [
    "data174 = pd.read_csv(\"data/intermediate Care facilities intellectual disabilities/Intermediate_Care_Facilities_for_Individuals_with_Intellectual_Disabilities.csv\")\n",
    "data174.head(3)"
   ]
  },
  {
   "cell_type": "code",
   "execution_count": null,
   "id": "9f786d89",
   "metadata": {},
   "outputs": [],
   "source": [
    "data175 = gpd.read_file(\"data/intermediate Care facilities intellectual disabilities/Intermediate_Care_Facilities_for_Individuals_with_Intellectual_Disabilities.geojson\")\n",
    "data175.head(3)"
   ]
  },
  {
   "cell_type": "code",
   "execution_count": null,
   "id": "cc98323e",
   "metadata": {},
   "outputs": [],
   "source": [
    "data176 = gpd.read_file(\"data/intermediate Care facilities intellectual disabilities/Intermediate_Care_Facilities_for_Individuals_with_Intellectual_Disabilities.kml\")\n",
    "data176.head(3)"
   ]
  },
  {
   "cell_type": "code",
   "execution_count": null,
   "id": "67d34146",
   "metadata": {},
   "outputs": [],
   "source": [
    "data177 = gpd.read_file(\"data/intermediate Care facilities intellectual disabilities/Intermediate_Care_Facilities_for_Individuals_with_Intellectual_Disabilities\")\n",
    "data177.plot(alpha=0.5, color='grey', edgecolor='black')"
   ]
  },
  {
   "cell_type": "markdown",
   "id": "8f8b4821",
   "metadata": {},
   "source": [
    "### Race\n",
    "\n",
    "Downloaded from: https://data.census.gov/table?g=040XX00US15$1000000&y=2020\n",
    "\n",
    "* `Description`: Total Population Race/orgin\n",
    "* `Source`:  Decennial Census, US Census\n",
    "* `Lowest Geographic Scale`: Geo_ID\n",
    "* `Data formats available`: csv\n",
    "\n",
    "```\n",
    "GEO_ID\tGeography\n",
    "NAME\tGeographic Area Name\n",
    "P1_001N\t !!Total:\n",
    "P1_002N\t !!Total:!!Population of one race:\n",
    "P1_003N\t !!Total:!!Population of one race:!!White alone\n",
    "P1_004N\t !!Total:!!Population of one race:!!Black or African American alone\n",
    "P1_005N\t !!Total:!!Population of one race:!!American Indian and Alaska Native alone\n",
    "P1_006N\t !!Total:!!Population of one race:!!Asian alone\n",
    "P1_007N\t !!Total:!!Population of one race:!!Native Hawaiian and Other Pacific Islander alone\n",
    "P1_008N\t !!Total:!!Population of one race:!!Some Other Race alone\n",
    "P1_009N\t !!Total:!!Population of two or more races:\n",
    "P1_010N\t !!Total:!!Population of two or more races:!!Population of two races:\n",
    "P1_011N\t !!Total:!!Population of two or more races:!!Population of two races:!!White; Black or African American\n",
    "P1_012N\t !!Total:!!Population of two or more races:!!Population of two races:!!White; American Indian and Alaska Native\n",
    "P1_013N\t !!Total:!!Population of two or more races:!!Population of two races:!!White; Asian\n",
    "P1_014N\t !!Total:!!Population of two or more races:!!Population of two races:!!White; Native Hawaiian and Other Pacific Islander\n",
    "P1_015N\t !!Total:!!Population of two or more races:!!Population of two races:!!White; Some Other Race\n",
    "P1_016N\t !!Total:!!Population of two or more races:!!Population of two races:!!Black or African American; American Indian and Alaska Native\n",
    "P1_017N\t !!Total:!!Population of two or more races:!!Population of two races:!!Black or African American; Asian\n",
    "P1_018N\t !!Total:!!Population of two or more races:!!Population of two races:!!Black or African American; Native Hawaiian and Other Pacific Islander\n",
    "P1_019N\t !!Total:!!Population of two or more races:!!Population of two races:!!Black or African American; Some Other Race\n",
    "P1_020N\t !!Total:!!Population of two or more races:!!Population of two races:!!American Indian and Alaska Native; Asian\n",
    "P1_021N\t !!Total:!!Population of two or more races:!!Population of two races:!!American Indian and Alaska Native; Native Hawaiian and Other Pacific Islander\n",
    "P1_022N\t !!Total:!!Population of two or more races:!!Population of two races:!!American Indian and Alaska Native; Some Other Race\n",
    "P1_023N\t !!Total:!!Population of two or more races:!!Population of two races:!!Asian; Native Hawaiian and Other Pacific Islander\n",
    "P1_024N\t !!Total:!!Population of two or more races:!!Population of two races:!!Asian; Some Other Race\n",
    "P1_025N\t !!Total:!!Population of two or more races:!!Population of two races:!!Native Hawaiian and Other Pacific Islander; Some Other Race\n",
    "P1_026N\t !!Total:!!Population of two or more races:!!Population of three races:\n",
    "P1_027N\t !!Total:!!Population of two or more races:!!Population of three races:!!White; Black or African American; American Indian and Alaska Native\n",
    "P1_028N\t !!Total:!!Population of two or more races:!!Population of three races:!!White; Black or African American; Asian\n",
    "P1_029N\t !!Total:!!Population of two or more races:!!Population of three races:!!White; Black or African American; Native Hawaiian and Other Pacific Islander\n",
    "P1_030N\t !!Total:!!Population of two or more races:!!Population of three races:!!White; Black or African American; Some Other Race\n",
    "P1_031N\t !!Total:!!Population of two or more races:!!Population of three races:!!White; American Indian and Alaska Native; Asian\n",
    "P1_032N\t !!Total:!!Population of two or more races:!!Population of three races:!!White; American Indian and Alaska Native; Native Hawaiian and Other Pacific Islander\n",
    "P1_033N\t !!Total:!!Population of two or more races:!!Population of three races:!!White; American Indian and Alaska Native; Some Other Race\n",
    "P1_034N\t !!Total:!!Population of two or more races:!!Population of three races:!!White; Asian; Native Hawaiian and Other Pacific Islander\n",
    "P1_035N\t !!Total:!!Population of two or more races:!!Population of three races:!!White; Asian; Some Other Race\n",
    "P1_036N\t !!Total:!!Population of two or more races:!!Population of three races:!!White; Native Hawaiian and Other Pacific Islander; Some Other Race\n",
    "P1_037N\t !!Total:!!Population of two or more races:!!Population of three races:!!Black or African American; American Indian and Alaska Native; Asian\n",
    "P1_038N\t !!Total:!!Population of two or more races:!!Population of three races:!!Black or African American; American Indian and Alaska Native; Native Hawaiian and Other Pacific Islander\n",
    "P1_039N\t !!Total:!!Population of two or more races:!!Population of three races:!!Black or African American; American Indian and Alaska Native; Some Other Race\n",
    "P1_040N\t !!Total:!!Population of two or more races:!!Population of three races:!!Black or African American; Asian; Native Hawaiian and Other Pacific Islander\n",
    "P1_041N\t !!Total:!!Population of two or more races:!!Population of three races:!!Black or African American; Asian; Some Other Race\n",
    "P1_042N\t !!Total:!!Population of two or more races:!!Population of three races:!!Black or African American; Native Hawaiian and Other Pacific Islander; Some Other Race\n",
    "P1_043N\t !!Total:!!Population of two or more races:!!Population of three races:!!American Indian and Alaska Native; Asian; Native Hawaiian and Other Pacific Islander\n",
    "P1_044N\t !!Total:!!Population of two or more races:!!Population of three races:!!American Indian and Alaska Native; Asian; Some Other Race\n",
    "P1_045N\t !!Total:!!Population of two or more races:!!Population of three races:!!American Indian and Alaska Native; Native Hawaiian and Other Pacific Islander; Some Other Race\n",
    "P1_046N\t !!Total:!!Population of two or more races:!!Population of three races:!!Asian; Native Hawaiian and Other Pacific Islander; Some Other Race\n",
    "P1_047N\t !!Total:!!Population of two or more races:!!Population of four races:\n",
    "P1_048N\t !!Total:!!Population of two or more races:!!Population of four races:!!White; Black or African American; American Indian and Alaska Native; Asian\n",
    "P1_049N\t !!Total:!!Population of two or more races:!!Population of four races:!!White; Black or African American; American Indian and Alaska Native; Native Hawaiian and Other Pacific Islander\n",
    "P1_050N\t !!Total:!!Population of two or more races:!!Population of four races:!!White; Black or African American; American Indian and Alaska Native; Some Other Race\n",
    "P1_051N\t !!Total:!!Population of two or more races:!!Population of four races:!!White; Black or African American; Asian; Native Hawaiian and Other Pacific Islander\n",
    "P1_052N\t !!Total:!!Population of two or more races:!!Population of four races:!!White; Black or African American; Asian; Some Other Race\n",
    "P1_053N\t !!Total:!!Population of two or more races:!!Population of four races:!!White; Black or African American; Native Hawaiian and Other Pacific Islander; Some Other Race\n",
    "P1_054N\t !!Total:!!Population of two or more races:!!Population of four races:!!White; American Indian and Alaska Native; Asian; Native Hawaiian and Other Pacific Islander\n",
    "P1_055N\t !!Total:!!Population of two or more races:!!Population of four races:!!White; American Indian and Alaska Native; Asian; Some Other Race\n",
    "P1_056N\t !!Total:!!Population of two or more races:!!Population of four races:!!White; American Indian and Alaska Native; Native Hawaiian and Other Pacific Islander; Some Other Race\n",
    "P1_057N\t !!Total:!!Population of two or more races:!!Population of four races:!!White; Asian; Native Hawaiian and Other Pacific Islander; Some Other Race\n",
    "P1_058N\t !!Total:!!Population of two or more races:!!Population of four races:!!Black or African American; American Indian and Alaska Native; Asian; Native Hawaiian and Other Pacific Islander\n",
    "P1_059N\t !!Total:!!Population of two or more races:!!Population of four races:!!Black or African American; American Indian and Alaska Native; Asian; Some Other Race\n",
    "P1_060N\t !!Total:!!Population of two or more races:!!Population of four races:!!Black or African American; American Indian and Alaska Native; Native Hawaiian and Other Pacific Islander; Some Other Race\n",
    "P1_061N\t !!Total:!!Population of two or more races:!!Population of four races:!!Black or African American; Asian; Native Hawaiian and Other Pacific Islander; Some Other Race\n",
    "P1_062N\t !!Total:!!Population of two or more races:!!Population of four races:!!American Indian and Alaska Native; Asian; Native Hawaiian and Other Pacific Islander; Some Other Race\n",
    "P1_063N\t !!Total:!!Population of two or more races:!!Population of five races:\n",
    "P1_064N\t !!Total:!!Population of two or more races:!!Population of five races:!!White; Black or African American; American Indian and Alaska Native; Asian; Native Hawaiian and Other Pacific Islander\n",
    "P1_065N\t !!Total:!!Population of two or more races:!!Population of five races:!!White; Black or African American; American Indian and Alaska Native; Asian; Some Other Race\n",
    "P1_066N\t !!Total:!!Population of two or more races:!!Population of five races:!!White; Black or African American; American Indian and Alaska Native; Native Hawaiian and Other Pacific Islander; Some Other Race\n",
    "P1_067N\t !!Total:!!Population of two or more races:!!Population of five races:!!White; Black or African American; Asian; Native Hawaiian and Other Pacific Islander; Some Other Race\n",
    "P1_068N\t !!Total:!!Population of two or more races:!!Population of five races:!!White; American Indian and Alaska Native; Asian; Native Hawaiian and Other Pacific Islander; Some Other Race\n",
    "P1_069N\t !!Total:!!Population of two or more races:!!Population of five races:!!Black or African American; American Indian and Alaska Native; Asian; Native Hawaiian and Other Pacific Islander; Some Other Race\n",
    "P1_070N\t !!Total:!!Population of two or more races:!!Population of six races:\n",
    "P1_071N\t !!Total:!!Population of two or more races:!!Population of six races:!!White; Black or African American; American Indian and Alaska Native; Asian; Native Hawaiian and Other Pacific Islander\n",
    "```"
   ]
  },
  {
   "cell_type": "code",
   "execution_count": null,
   "id": "14c97ecb",
   "metadata": {},
   "outputs": [],
   "source": [
    "data178 = pd.read_csv(\"data/race/DECENNIALPL2020.P1-Data.csv\")\n",
    "data178.head(3)"
   ]
  },
  {
   "cell_type": "markdown",
   "id": "c33a1207",
   "metadata": {},
   "source": [
    "### 2020 census hawaiian homelands\n",
    "\n",
    "Downloaded from: https://files.hawaii.gov/dbedt/op/gis/data/dhhl_lands.shp.zip\n",
    "\n",
    "* `Description`: Lands owned by the State of Hawaii Department of Hawaiian Homelands as of October 2022,\n",
    "summarized by island\n",
    "* `Source`:  State of Hawaii Department of Hawaiian Homelands, November 8, 2022\n",
    "* `Lowest Geographic Scale`: Geo_ID\n",
    "* `Data formats available`: csv\n",
    "\n",
    "```\n",
    "Attributes: Polygons:\n",
    "Island Island on which the polygon is located\n",
    "GIS_Acres Acreage of the polygon, in acres, as calculated by the GIS software\n",
    "```"
   ]
  },
  {
   "cell_type": "code",
   "execution_count": null,
   "id": "b386ebbd",
   "metadata": {},
   "outputs": [],
   "source": [
    "data179 = gpd.read_file(\"data/2020 census hawaiian homelands/dhhl_lands.shp\")\n",
    "data179.plot()"
   ]
  },
  {
   "cell_type": "markdown",
   "id": "e04b8360",
   "metadata": {},
   "source": [
    "### Aggregate Number of Vehicles Available by Tenure\n",
    "\n",
    "Downloaded from: https://data.census.gov/cedsci/table?q=vehicle&g=0400000US15%241500000&tid=ACSDT5Y2019.B25046\n",
    "\n",
    "* `Description`: Aggregate Number of Vehicles Available by Tenure.5-Year Estimates Detailed Tables, Table B25046, 2022\n",
    "* `Source`:  American Community Survey, U.S. Census Bureau\n",
    "* `Lowest Geographic Scale`: Geo_ID\n",
    "* `Data formats available`: csv\n",
    "\n",
    "```\n",
    "Attributes:\n",
    "GEO_ID\tNAME\t\t\t\t\t\t\n",
    "Geography\tGeographic Area Name\t\n",
    "B25046_001E Estimate!!Aggregate number of vehicles available:\t\n",
    "B25046_001M Margin of Error!!Aggregate number of vehicles available:\t\n",
    "B25046_002E Estimate!!Aggregate number of vehicles available:!!Owner occupied\t\n",
    "B25046_002M Margin of Error!!Aggregate number of vehicles available:!!Owner occupied\t\n",
    "B25046_003E Estimate!!Aggregate number of vehicles available:!!Renter occupied\t\n",
    "B25046_003M Margin of Error!!Aggregate number of vehicles available:!!Renter occupied\t\n",
    "```"
   ]
  },
  {
   "cell_type": "code",
   "execution_count": null,
   "id": "eedd4325",
   "metadata": {},
   "outputs": [],
   "source": [
    "# Year 2022\n",
    "data180 = pd.read_csv(\"data/aggreage_num_of_Veh_tenure/ACSDT5Y2022.B25046-Data.csv\")\n",
    "data180.head(3)"
   ]
  },
  {
   "cell_type": "code",
   "execution_count": null,
   "id": "7856a1c4",
   "metadata": {},
   "outputs": [],
   "source": [
    "# Year 2021\n",
    "data181 = pd.read_csv(\"data/aggreage_num_of_Veh_tenure/ACSDT5Y2021.B25046-Data.csv\")\n",
    "data181.head(3)"
   ]
  },
  {
   "cell_type": "code",
   "execution_count": null,
   "id": "bf15d071",
   "metadata": {},
   "outputs": [],
   "source": [
    "# Year 2020\n",
    "data182 = pd.read_csv(\"data/aggreage_num_of_Veh_tenure/ACSDT5Y2020.B25046-Data.csv\")\n",
    "data182.head(3)"
   ]
  },
  {
   "cell_type": "code",
   "execution_count": null,
   "id": "9ee449ab",
   "metadata": {},
   "outputs": [],
   "source": [
    "# Year 2019\n",
    "data183 = pd.read_csv(\"data/aggreage_num_of_Veh_tenure/ACSDT5Y2019.B25046-Data.csv\")\n",
    "data183.head(3)"
   ]
  },
  {
   "cell_type": "code",
   "execution_count": null,
   "id": "50ed9462",
   "metadata": {},
   "outputs": [],
   "source": [
    "# Year 2018\n",
    "data184 = pd.read_csv(\"data/aggreage_num_of_Veh_tenure/ACSDT5Y2018.B25046-Data.csv\")\n",
    "data184.head(3)"
   ]
  },
  {
   "cell_type": "code",
   "execution_count": null,
   "id": "5b808754",
   "metadata": {},
   "outputs": [],
   "source": []
  }
 ],
 "metadata": {
  "kernelspec": {
   "display_name": "Python 3 (ipykernel)",
   "language": "python",
   "name": "python3"
  },
  "language_info": {
   "codemirror_mode": {
    "name": "ipython",
    "version": 3
   },
   "file_extension": ".py",
   "mimetype": "text/x-python",
   "name": "python",
   "nbconvert_exporter": "python",
   "pygments_lexer": "ipython3",
   "version": "3.9.16"
  }
 },
 "nbformat": 4,
 "nbformat_minor": 5
}
